{
 "cells": [
  {
   "cell_type": "markdown",
   "metadata": {},
   "source": [
    "# Integration"
   ]
  },
  {
   "cell_type": "code",
   "execution_count": 1,
   "metadata": {},
   "outputs": [],
   "source": [
    "import pennylane as qml\n",
    "from pennylane.optimize import GradientDescentOptimizer\n",
    "from pennylane import numpy as np\n",
    "import math\n",
    "\n",
    "import matplotlib.pyplot as plt"
   ]
  },
  {
   "cell_type": "markdown",
   "metadata": {},
   "source": [
    "## Simple Integration... Let's start with just 1D integral"
   ]
  },
  {
   "cell_type": "markdown",
   "metadata": {},
   "source": [
    "### Data Generation"
   ]
  },
  {
   "cell_type": "code",
   "execution_count": 2,
   "metadata": {},
   "outputs": [],
   "source": [
    "data = np.load('toy_data_10e4.npz')"
   ]
  },
  {
   "cell_type": "code",
   "execution_count": 3,
   "metadata": {},
   "outputs": [
    {
     "name": "stdout",
     "output_type": "stream",
     "text": [
      "[[2.55258737 0.41757623 2.5810235  0.        ]\n",
      " [1.05945455 2.73902844 2.59982768 0.01002004]\n",
      " [2.71202945 3.38179615 1.0272925  0.02004008]\n",
      " ...\n",
      " [2.26058831 2.62355914 0.18093676 4.97995992]\n",
      " [2.91426381 3.41772047 2.93088925 4.98997996]\n",
      " [0.1022243  2.0529486  1.72946409 5.        ]]\n"
     ]
    }
   ],
   "source": [
    "Xdata = data['xdata']\n",
    "print(Xdata)"
   ]
  },
  {
   "cell_type": "code",
   "execution_count": 4,
   "metadata": {},
   "outputs": [
    {
     "name": "stdout",
     "output_type": "stream",
     "text": [
      "[-0.03413077  0.00653628 -0.83397146 ...  0.9999308  -0.8789377\n",
      " -0.79724696]\n"
     ]
    }
   ],
   "source": [
    "Ydata = data['ydata']\n",
    "print(Ydata)"
   ]
  },
  {
   "cell_type": "markdown",
   "metadata": {},
   "source": [
    "### Target function"
   ]
  },
  {
   "cell_type": "code",
   "execution_count": null,
   "metadata": {},
   "outputs": [],
   "source": []
  },
  {
   "cell_type": "markdown",
   "metadata": {},
   "source": [
    "### Circuit Model"
   ]
  },
  {
   "cell_type": "code",
   "execution_count": 7,
   "metadata": {},
   "outputs": [
    {
     "name": "stderr",
     "output_type": "stream",
     "text": [
      "/home/kban/.local/lib/python3.8/site-packages/pennylane_lightning/lightning_qubit/lightning_qubit.py:822: UserWarning: Pre-compiled binaries for lightning.qubit are not available. Falling back to using the Python-based default.qubit implementation. To manually compile from source, follow the instructions at https://pennylane-lightning.readthedocs.io/en/latest/installation.html.\n",
      "  warn(\n"
     ]
    }
   ],
   "source": [
    "dev_stochastic = qml.device(\"lightning.qubit\", wires=10)\n",
    "\n",
    "@qml.qnode(dev_stochastic, diff_method=\"parameter-shift\")\n",
    "def single_data_point_ansatz(params, phis, x, num_layers):\n",
    "    \"\"\"\n",
    "    Quantum Circuit Model for a single data point x.\n",
    "\n",
    "    INPUT\n",
    "    params : array of theta parameters\n",
    "    phis : array of phi for the last rotation gate\n",
    "    x : single data point for reuploading\n",
    "\n",
    "    OUTPUT\n",
    "    Expectation value with PauliZ measure\n",
    "    \"\"\"\n",
    "    \n",
    "    num_qubits = math.ceil(len(x) / 2)\n",
    "    param_index = 0\n",
    "\n",
    "    for _ in range(num_layers):\n",
    "        for i in range(len(x)):\n",
    "            qubit = i // 2\n",
    "            qml.RY(params[param_index], wires=qubit)\n",
    "            qml.RZ(params[param_index + 1], wires=qubit)\n",
    "            qml.RZ(x[i], wires=qubit)  # Re-uploading data here\n",
    "            qml.RY(params[param_index + 2], wires=qubit)\n",
    "            qml.RZ(params[param_index + 3], wires=qubit)\n",
    "            param_index += 4\n",
    "        \n",
    "        if num_qubits > 1:\n",
    "            for q in range(0, num_qubits - 1, 1):\n",
    "                qml.CZ(wires=[q, q + 1])\n",
    "            if num_qubits > 2:\n",
    "                qml.CZ(wires=[num_qubits - 1, 0])\n",
    "    \n",
    "    for i in range(num_qubits): \n",
    "        qml.RY(phis[i], wires=i)\n",
    "\n",
    "    obs = qml.PauliZ(0)\n",
    "    for i in range(num_qubits-1):\n",
    "         obs = obs @ qml.PauliZ(i+1)\n",
    "    \n",
    "    return qml.expval(obs)\n",
    "\n",
    "\n",
    "def batch_ansatz(params, phis, xdata, num_layers):\n",
    "    \"\"\"\n",
    "    Quantum Circuit Model for batch data.\n",
    "\n",
    "    INPUT\n",
    "    params : array of theta parameters\n",
    "    phis : array of phi for the last rotation gate\n",
    "    xdata : batch of data points for reuploading\n",
    "    num_layers : layers we will append for the circuit\n",
    "\n",
    "    OUTPUT\n",
    "    Mean of expectation values with PauliZ measure over the batch\n",
    "    \"\"\"\n",
    "    # Ensure that `params` is a flat list for single_data_point_ansatz\n",
    "    flat_params = params.flatten()\n",
    "    \n",
    "    # Calculate the expectation for each data point and take the mean\n",
    "    expectations = [single_data_point_ansatz(flat_params, phis, x, num_layers) for x in xdata]\n",
    "    return np.mean(expectations)"
   ]
  },
  {
   "cell_type": "code",
   "execution_count": 8,
   "metadata": {},
   "outputs": [
    {
     "name": "stdout",
     "output_type": "stream",
     "text": [
      "[0.17827215 0.57666515 0.67513005 0.81846239 0.93932721 0.26357393\n",
      " 0.20275885 0.8592312  0.26100854 0.95916566 0.73823606 0.98867133\n",
      " 0.76168891 0.55937236 0.12678064 0.04602907 0.97936243 0.6393217\n",
      " 0.28326717 0.56462284 0.10534565 0.62418791 0.02774595 0.26683968\n",
      " 0.78912964 0.00125882 0.32445339 0.46856635 0.12562493 0.47928415\n",
      " 0.82211142 0.70636646 0.26782975 0.17742842 0.47312994 0.9278913\n",
      " 0.11108655 0.2551302  0.12350515 0.27610254]\n"
     ]
    },
    {
     "data": {
      "image/png": "[encoded data removed]",
      "text/plain": [
       "<Figure size 2600x300 with 1 Axes>"
      ]
     },
     "metadata": {},
     "output_type": "display_data"
    }
   ],
   "source": [
    "xdim = 4\n",
    "num_qubits = math.ceil(xdim / 2)\n",
    "num_layers = 2\n",
    "\n",
    "xdata = Xdata[:100] #np.random.uniform(size = [100,xdim], requires_grad=False)\n",
    "thetas = np.random.uniform(size = xdim*num_layers*5,requires_grad = True)\n",
    "phis = np.random.uniform(size=(num_qubits,1), requires_grad =True)\n",
    "target = Ydata[:100]\n",
    "print(thetas)\n",
    "\n",
    "params = 0\n",
    "params += thetas\n",
    "param_index = 1\n",
    "for _ in range(num_layers):\n",
    "    for j in range(xdim):\n",
    "        params[param_index] = thetas[param_index] * xdata[0][j]\n",
    "        param_index += 5\n",
    "\n",
    "fig, ax = qml.draw_mpl(single_data_point_ansatz)(params, phis, xdata[0], num_layers)\n",
    "plt.show()"
   ]
  },
  {
   "cell_type": "markdown",
   "metadata": {},
   "source": [
    "### Loss function"
   ]
  },
  {
   "cell_type": "code",
   "execution_count": 9,
   "metadata": {},
   "outputs": [],
   "source": [
    "from scipy.optimize import minimize"
   ]
  },
  {
   "cell_type": "code",
   "execution_count": 10,
   "metadata": {},
   "outputs": [],
   "source": [
    "# 손실 함수 정의\n",
    "def cost_function(params, phis, xdata, target, num_layers):\n",
    "    # 손실 계산을 위해 batch_ansatz를 사용합니다.\n",
    "    predictions = batch_ansatz(params, phis, xdata, num_layers)\n",
    "    loss = np.mean((predictions - target)**2)\n",
    "    return loss\n",
    "\n",
    "# 수동 그라디언트 계산 함수\n",
    "def parameter_shift_term(qnode, params, i, phis, xdata, num_layers):\n",
    "    shifted_params = params.copy()\n",
    "    shift = np.pi / 2\n",
    "    \n",
    "    # 각 파라미터에 대한 기울기를 계산합니다.\n",
    "    shifted_params = params.copy()\n",
    "    shifted_params[i] += shift\n",
    "    forward = [qnode(shifted_params, phis, x, num_layers) for x in xdata]  # Forward evaluation\n",
    "\n",
    "    shifted_params[i] -= 2 * shift\n",
    "    backward = [qnode(shifted_params, phis, x, num_layers) for x in xdata]  # Backward evaluation\n",
    "\n",
    "    # 배치 기대값의 평균을 구하여 기울기를 계산합니다.\n",
    "    gradient = np.mean([(f - b) / (2 * np.sin(shift)) for f, b in zip(forward, backward)])\n",
    "    return gradient\n",
    "\n",
    "# 파라미터 업데이트 함수\n",
    "def update_params(params, grads, learning_rate=0.01):\n",
    "    new_params = params - learning_rate * grads\n",
    "    return new_params\n"
   ]
  },
  {
   "cell_type": "code",
   "execution_count": 12,
   "metadata": {
    "tags": []
   },
   "outputs": [
    {
     "name": "stdout",
     "output_type": "stream",
     "text": [
      "Epoch 1, Loss: 0.52488411646778\n",
      "Epoch 2, Loss: 0.5246270315447856\n",
      "Epoch 3, Loss: 0.5243728564555415\n",
      "Epoch 4, Loss: 0.5241215977913665\n",
      "Epoch 5, Loss: 0.5238732620573885\n",
      "Epoch 6, Loss: 0.5236278556720805\n",
      "Epoch 7, Loss: 0.5233853849668008\n",
      "Epoch 8, Loss: 0.5231458561853439\n",
      "Epoch 9, Loss: 0.5229092754834932\n",
      "Epoch 10, Loss: 0.5226756489285845\n",
      "Epoch 11, Loss: 0.5224449824990738\n",
      "Epoch 12, Loss: 0.5222172820841131\n",
      "Epoch 13, Loss: 0.5219925534831327\n",
      "Epoch 14, Loss: 0.5217708024054305\n",
      "Epoch 15, Loss: 0.5215520344697694\n",
      "Epoch 16, Loss: 0.521336255203979\n",
      "Epoch 17, Loss: 0.521123470044568\n",
      "Epoch 18, Loss: 0.5209136843363408\n",
      "Epoch 19, Loss: 0.5207069033320231\n",
      "Epoch 20, Loss: 0.5205031321918939\n",
      "Epoch 21, Loss: 0.5203023759834255\n",
      "Epoch 22, Loss: 0.5201046396809305\n",
      "Epoch 23, Loss: 0.5199099281652153\n",
      "Epoch 24, Loss: 0.5197182462232437\n",
      "Epoch 25, Loss: 0.5195295985478046\n",
      "Epoch 26, Loss: 0.5193439897371901\n",
      "Epoch 27, Loss: 0.5191614242948795\n",
      "Epoch 28, Loss: 0.5189819066292324\n",
      "Epoch 29, Loss: 0.5188054410531869\n",
      "Epoch 30, Loss: 0.5186320317839688\n",
      "Epoch 31, Loss: 0.5184616829428057\n",
      "Epoch 32, Loss: 0.5182943985546514\n",
      "Epoch 33, Loss: 0.5181301825479161\n",
      "Epoch 34, Loss: 0.5179690387542049\n",
      "Epoch 35, Loss: 0.5178109709080653\n",
      "Epoch 36, Loss: 0.5176559826467411\n",
      "Epoch 37, Loss: 0.5175040775099357\n",
      "Epoch 38, Loss: 0.517355258939582\n",
      "Epoch 39, Loss: 0.5172095302796212\n",
      "Epoch 40, Loss: 0.51706689477579\n",
      "Epoch 41, Loss: 0.5169273555754139\n",
      "Epoch 42, Loss: 0.5167909157272114\n",
      "Epoch 43, Loss: 0.516657578181104\n",
      "Epoch 44, Loss: 0.5165273457880355\n",
      "Epoch 45, Loss: 0.516400221299799\n",
      "Epoch 46, Loss: 0.5162762073688726\n",
      "Epoch 47, Loss: 0.5161553065482622\n",
      "Epoch 48, Loss: 0.5160375212913542\n",
      "Epoch 49, Loss: 0.5159228539517744\n",
      "Epoch 50, Loss: 0.515811306783257\n",
      "Epoch 51, Loss: 0.5157028819395209\n",
      "Epoch 52, Loss: 0.5155975814741537\n",
      "Epoch 53, Loss: 0.5154954073405057\n",
      "Epoch 54, Loss: 0.5153963613915906\n",
      "Epoch 55, Loss: 0.5153004453799952\n",
      "Epoch 56, Loss: 0.5152076609577969\n",
      "Epoch 57, Loss: 0.5151180096764905\n",
      "Epoch 58, Loss: 0.5150314929869226\n",
      "Epoch 59, Loss: 0.5149481122392336\n",
      "Epoch 60, Loss: 0.51486786868281\n",
      "Epoch 61, Loss: 0.5147907634662423\n",
      "Epoch 62, Loss: 0.5147167976372947\n",
      "Epoch 63, Loss: 0.5146459721428799\n",
      "Epoch 64, Loss: 0.5145782878290429\n",
      "Epoch 65, Loss: 0.5145137454409556\n",
      "Epoch 66, Loss: 0.514452345622916\n",
      "Epoch 67, Loss: 0.5143940889183587\n",
      "Epoch 68, Loss: 0.5143389757698715\n",
      "Epoch 69, Loss: 0.5142870065192224\n",
      "Epoch 70, Loss: 0.5142381814073924\n",
      "Epoch 71, Loss: 0.514192500574619\n",
      "Epoch 72, Loss: 0.5141499640604468\n",
      "Epoch 73, Loss: 0.5141105718037849\n",
      "Epoch 74, Loss: 0.5140743236429768\n",
      "Epoch 75, Loss: 0.5140412193158729\n",
      "Epoch 76, Loss: 0.5140112584599152\n",
      "Epoch 77, Loss: 0.5139844406122294\n",
      "Epoch 78, Loss: 0.5139607652097239\n",
      "Epoch 79, Loss: 0.5139402315891983\n",
      "Epoch 80, Loss: 0.5139228389874588\n",
      "Epoch 81, Loss: 0.5139085865414432\n",
      "Epoch 82, Loss: 0.5138974732883519\n",
      "Epoch 83, Loss: 0.5138894981657895\n",
      "Epoch 84, Loss: 0.513884660011912\n",
      "Epoch 85, Loss: 0.5138829575655832\n",
      "Epoch 86, Loss: 0.5138843894665386\n",
      "Epoch 87, Loss: 0.5138889542555583\n",
      "Epoch 88, Loss: 0.5138966503746459\n",
      "Epoch 89, Loss: 0.5139074761672172\n",
      "Epoch 90, Loss: 0.5139214298782946\n",
      "Epoch 91, Loss: 0.5139385096547122\n",
      "Epoch 92, Loss: 0.5139587135453246\n",
      "Epoch 93, Loss: 0.5139820395012286\n",
      "Epoch 94, Loss: 0.5140084853759869\n",
      "Epoch 95, Loss: 0.5140380489258639\n",
      "Epoch 96, Loss: 0.5140707278100675\n",
      "Epoch 97, Loss: 0.514106519590997\n",
      "Epoch 98, Loss: 0.5141454217345016\n",
      "Epoch 99, Loss: 0.5141874316101438\n",
      "Epoch 100, Loss: 0.5142325464914707\n",
      "최적화된 파라미터: [ 0.15607132  1.47402017  0.72290955  0.79989274  0.99058456  0.26710117\n",
      "  0.06851127  0.86514754  0.29650405  0.95894027  0.71773453  2.55925181\n",
      "  0.77393856  0.55180841  0.14714773  0.03901054 -0.04325455  0.64508094\n",
      "  0.30143918  0.56307769  0.13412098  1.59038136  0.02755718  0.26424824\n",
      "  0.82906055  0.04303178  0.06846432  0.51168225  0.0610638   0.52015859\n",
      "  0.80665774  1.8013391   0.26782975  0.17742842  0.47312994  0.9278913\n",
      "  0.          0.2551302   0.12350515  0.27610254]\n"
     ]
    }
   ],
   "source": [
    "# 학습 설정\n",
    "epochs = 100\n",
    "learning_rate = 0.001\n",
    "\n",
    "\n",
    "# 학습 루프\n",
    "for epoch in range(epochs):\n",
    "    # 그라디언트를 저장할 배열 초기화\n",
    "    grads = np.zeros_like(params.flatten())  # params.flatten()으로 모든 파라미터에 대한 평평한 배열 생성\n",
    "\n",
    "    # 모든 파라미터에 대해 그라디언트 계산\n",
    "    for i in range(len(params.flatten())):\n",
    "        # 각 파라미터에 대한 기울기 계산\n",
    "        grads[i] = parameter_shift_term(single_data_point_ansatz, params, i, phis, xdata, num_layers)\n",
    "    \n",
    "    # 그라디언트의 모양을 원래 params의 모양으로 재구성\n",
    "    grads = grads.reshape(params.shape)\n",
    "    \n",
    "    # 파라미터 업데이트\n",
    "    params = update_params(params, grads, learning_rate)\n",
    "\n",
    "    # 손실 계산\n",
    "    loss = cost_function(params, phis, xdata, target, num_layers)\n",
    "    print(f\"Epoch {epoch+1}, Loss: {loss}\")\n",
    "\n",
    "# 최종 파라미터 출력\n",
    "print(\"최적화된 파라미터:\", params)\n"
   ]
  },
  {
   "cell_type": "code",
   "execution_count": null,
   "metadata": {},
   "outputs": [],
   "source": []
  },
  {
   "cell_type": "code",
   "execution_count": null,
   "metadata": {},
   "outputs": [],
   "source": []
  },
  {
   "cell_type": "code",
   "execution_count": null,
   "metadata": {},
   "outputs": [],
   "source": []
  },
  {
   "cell_type": "code",
   "execution_count": null,
   "metadata": {},
   "outputs": [],
   "source": []
  },
  {
   "cell_type": "code",
   "execution_count": 114,
   "metadata": {},
   "outputs": [
    {
     "ename": "TypeError",
     "evalue": "cost_function() missing 2 required positional arguments: 'target' and 'num_layers'",
     "output_type": "error",
     "traceback": [
      "\u001b[0;31m---------------------------------------------------------------------------\u001b[0m",
      "\u001b[0;31mTypeError\u001b[0m                                 Traceback (most recent call last)",
      "Cell \u001b[0;32mIn[114], line 25\u001b[0m\n\u001b[1;32m     22\u001b[0m target \u001b[38;5;241m=\u001b[39m target\u001b[38;5;241m.\u001b[39mflatten()\n\u001b[1;32m     24\u001b[0m \u001b[38;5;66;03m# Using Scipy's minimize function with the LBFGS method\u001b[39;00m\n\u001b[0;32m---> 25\u001b[0m result \u001b[38;5;241m=\u001b[39m \u001b[43mminimize\u001b[49m\u001b[43m(\u001b[49m\u001b[43mcost_function\u001b[49m\u001b[43m,\u001b[49m\u001b[43m \u001b[49m\u001b[43mparams\u001b[49m\u001b[43m,\u001b[49m\u001b[43m \u001b[49m\u001b[43margs\u001b[49m\u001b[38;5;241;43m=\u001b[39;49m\u001b[43m(\u001b[49m\u001b[43mxdata\u001b[49m\u001b[43m,\u001b[49m\u001b[43m \u001b[49m\u001b[43mtarget\u001b[49m\u001b[43m)\u001b[49m\u001b[43m,\u001b[49m\u001b[43m \u001b[49m\u001b[43mmethod\u001b[49m\u001b[38;5;241;43m=\u001b[39;49m\u001b[38;5;124;43m'\u001b[39;49m\u001b[38;5;124;43mL-BFGS-B\u001b[39;49m\u001b[38;5;124;43m'\u001b[39;49m\u001b[43m)\u001b[49m\n\u001b[1;32m     27\u001b[0m \u001b[38;5;66;03m# Extract the optimized parameters\u001b[39;00m\n\u001b[1;32m     28\u001b[0m params \u001b[38;5;241m=\u001b[39m result\u001b[38;5;241m.\u001b[39mx\n",
      "File \u001b[0;32m~/.local/lib/python3.8/site-packages/scipy/optimize/_minimize.py:696\u001b[0m, in \u001b[0;36mminimize\u001b[0;34m(fun, x0, args, method, jac, hess, hessp, bounds, constraints, tol, callback, options)\u001b[0m\n\u001b[1;32m    693\u001b[0m     res \u001b[38;5;241m=\u001b[39m _minimize_newtoncg(fun, x0, args, jac, hess, hessp, callback,\n\u001b[1;32m    694\u001b[0m                              \u001b[38;5;241m*\u001b[39m\u001b[38;5;241m*\u001b[39moptions)\n\u001b[1;32m    695\u001b[0m \u001b[38;5;28;01melif\u001b[39;00m meth \u001b[38;5;241m==\u001b[39m \u001b[38;5;124m'\u001b[39m\u001b[38;5;124ml-bfgs-b\u001b[39m\u001b[38;5;124m'\u001b[39m:\n\u001b[0;32m--> 696\u001b[0m     res \u001b[38;5;241m=\u001b[39m \u001b[43m_minimize_lbfgsb\u001b[49m\u001b[43m(\u001b[49m\u001b[43mfun\u001b[49m\u001b[43m,\u001b[49m\u001b[43m \u001b[49m\u001b[43mx0\u001b[49m\u001b[43m,\u001b[49m\u001b[43m \u001b[49m\u001b[43margs\u001b[49m\u001b[43m,\u001b[49m\u001b[43m \u001b[49m\u001b[43mjac\u001b[49m\u001b[43m,\u001b[49m\u001b[43m \u001b[49m\u001b[43mbounds\u001b[49m\u001b[43m,\u001b[49m\n\u001b[1;32m    697\u001b[0m \u001b[43m                           \u001b[49m\u001b[43mcallback\u001b[49m\u001b[38;5;241;43m=\u001b[39;49m\u001b[43mcallback\u001b[49m\u001b[43m,\u001b[49m\u001b[43m \u001b[49m\u001b[38;5;241;43m*\u001b[39;49m\u001b[38;5;241;43m*\u001b[39;49m\u001b[43moptions\u001b[49m\u001b[43m)\u001b[49m\n\u001b[1;32m    698\u001b[0m \u001b[38;5;28;01melif\u001b[39;00m meth \u001b[38;5;241m==\u001b[39m \u001b[38;5;124m'\u001b[39m\u001b[38;5;124mtnc\u001b[39m\u001b[38;5;124m'\u001b[39m:\n\u001b[1;32m    699\u001b[0m     res \u001b[38;5;241m=\u001b[39m _minimize_tnc(fun, x0, args, jac, bounds, callback\u001b[38;5;241m=\u001b[39mcallback,\n\u001b[1;32m    700\u001b[0m                         \u001b[38;5;241m*\u001b[39m\u001b[38;5;241m*\u001b[39moptions)\n",
      "File \u001b[0;32m~/.local/lib/python3.8/site-packages/scipy/optimize/_lbfgsb_py.py:305\u001b[0m, in \u001b[0;36m_minimize_lbfgsb\u001b[0;34m(fun, x0, args, jac, bounds, disp, maxcor, ftol, gtol, eps, maxfun, maxiter, iprint, callback, maxls, finite_diff_rel_step, **unknown_options)\u001b[0m\n\u001b[1;32m    302\u001b[0m     \u001b[38;5;28;01melse\u001b[39;00m:\n\u001b[1;32m    303\u001b[0m         iprint \u001b[38;5;241m=\u001b[39m disp\n\u001b[0;32m--> 305\u001b[0m sf \u001b[38;5;241m=\u001b[39m \u001b[43m_prepare_scalar_function\u001b[49m\u001b[43m(\u001b[49m\u001b[43mfun\u001b[49m\u001b[43m,\u001b[49m\u001b[43m \u001b[49m\u001b[43mx0\u001b[49m\u001b[43m,\u001b[49m\u001b[43m \u001b[49m\u001b[43mjac\u001b[49m\u001b[38;5;241;43m=\u001b[39;49m\u001b[43mjac\u001b[49m\u001b[43m,\u001b[49m\u001b[43m \u001b[49m\u001b[43margs\u001b[49m\u001b[38;5;241;43m=\u001b[39;49m\u001b[43margs\u001b[49m\u001b[43m,\u001b[49m\u001b[43m \u001b[49m\u001b[43mepsilon\u001b[49m\u001b[38;5;241;43m=\u001b[39;49m\u001b[43meps\u001b[49m\u001b[43m,\u001b[49m\n\u001b[1;32m    306\u001b[0m \u001b[43m                              \u001b[49m\u001b[43mbounds\u001b[49m\u001b[38;5;241;43m=\u001b[39;49m\u001b[43mnew_bounds\u001b[49m\u001b[43m,\u001b[49m\n\u001b[1;32m    307\u001b[0m \u001b[43m                              \u001b[49m\u001b[43mfinite_diff_rel_step\u001b[49m\u001b[38;5;241;43m=\u001b[39;49m\u001b[43mfinite_diff_rel_step\u001b[49m\u001b[43m)\u001b[49m\n\u001b[1;32m    309\u001b[0m func_and_grad \u001b[38;5;241m=\u001b[39m sf\u001b[38;5;241m.\u001b[39mfun_and_grad\n\u001b[1;32m    311\u001b[0m fortran_int \u001b[38;5;241m=\u001b[39m _lbfgsb\u001b[38;5;241m.\u001b[39mtypes\u001b[38;5;241m.\u001b[39mintvar\u001b[38;5;241m.\u001b[39mdtype\n",
      "File \u001b[0;32m~/.local/lib/python3.8/site-packages/scipy/optimize/_optimize.py:332\u001b[0m, in \u001b[0;36m_prepare_scalar_function\u001b[0;34m(fun, x0, jac, args, bounds, epsilon, finite_diff_rel_step, hess)\u001b[0m\n\u001b[1;32m    328\u001b[0m     bounds \u001b[38;5;241m=\u001b[39m (\u001b[38;5;241m-\u001b[39mnp\u001b[38;5;241m.\u001b[39minf, np\u001b[38;5;241m.\u001b[39minf)\n\u001b[1;32m    330\u001b[0m \u001b[38;5;66;03m# ScalarFunction caches. Reuse of fun(x) during grad\u001b[39;00m\n\u001b[1;32m    331\u001b[0m \u001b[38;5;66;03m# calculation reduces overall function evaluations.\u001b[39;00m\n\u001b[0;32m--> 332\u001b[0m sf \u001b[38;5;241m=\u001b[39m \u001b[43mScalarFunction\u001b[49m\u001b[43m(\u001b[49m\u001b[43mfun\u001b[49m\u001b[43m,\u001b[49m\u001b[43m \u001b[49m\u001b[43mx0\u001b[49m\u001b[43m,\u001b[49m\u001b[43m \u001b[49m\u001b[43margs\u001b[49m\u001b[43m,\u001b[49m\u001b[43m \u001b[49m\u001b[43mgrad\u001b[49m\u001b[43m,\u001b[49m\u001b[43m \u001b[49m\u001b[43mhess\u001b[49m\u001b[43m,\u001b[49m\n\u001b[1;32m    333\u001b[0m \u001b[43m                    \u001b[49m\u001b[43mfinite_diff_rel_step\u001b[49m\u001b[43m,\u001b[49m\u001b[43m \u001b[49m\u001b[43mbounds\u001b[49m\u001b[43m,\u001b[49m\u001b[43m \u001b[49m\u001b[43mepsilon\u001b[49m\u001b[38;5;241;43m=\u001b[39;49m\u001b[43mepsilon\u001b[49m\u001b[43m)\u001b[49m\n\u001b[1;32m    335\u001b[0m \u001b[38;5;28;01mreturn\u001b[39;00m sf\n",
      "File \u001b[0;32m~/.local/lib/python3.8/site-packages/scipy/optimize/_differentiable_functions.py:158\u001b[0m, in \u001b[0;36mScalarFunction.__init__\u001b[0;34m(self, fun, x0, args, grad, hess, finite_diff_rel_step, finite_diff_bounds, epsilon)\u001b[0m\n\u001b[1;32m    155\u001b[0m     \u001b[38;5;28mself\u001b[39m\u001b[38;5;241m.\u001b[39mf \u001b[38;5;241m=\u001b[39m fun_wrapped(\u001b[38;5;28mself\u001b[39m\u001b[38;5;241m.\u001b[39mx)\n\u001b[1;32m    157\u001b[0m \u001b[38;5;28mself\u001b[39m\u001b[38;5;241m.\u001b[39m_update_fun_impl \u001b[38;5;241m=\u001b[39m update_fun\n\u001b[0;32m--> 158\u001b[0m \u001b[38;5;28;43mself\u001b[39;49m\u001b[38;5;241;43m.\u001b[39;49m\u001b[43m_update_fun\u001b[49m\u001b[43m(\u001b[49m\u001b[43m)\u001b[49m\n\u001b[1;32m    160\u001b[0m \u001b[38;5;66;03m# Gradient evaluation\u001b[39;00m\n\u001b[1;32m    161\u001b[0m \u001b[38;5;28;01mif\u001b[39;00m \u001b[38;5;28mcallable\u001b[39m(grad):\n",
      "File \u001b[0;32m~/.local/lib/python3.8/site-packages/scipy/optimize/_differentiable_functions.py:251\u001b[0m, in \u001b[0;36mScalarFunction._update_fun\u001b[0;34m(self)\u001b[0m\n\u001b[1;32m    249\u001b[0m \u001b[38;5;28;01mdef\u001b[39;00m \u001b[38;5;21m_update_fun\u001b[39m(\u001b[38;5;28mself\u001b[39m):\n\u001b[1;32m    250\u001b[0m     \u001b[38;5;28;01mif\u001b[39;00m \u001b[38;5;129;01mnot\u001b[39;00m \u001b[38;5;28mself\u001b[39m\u001b[38;5;241m.\u001b[39mf_updated:\n\u001b[0;32m--> 251\u001b[0m         \u001b[38;5;28;43mself\u001b[39;49m\u001b[38;5;241;43m.\u001b[39;49m\u001b[43m_update_fun_impl\u001b[49m\u001b[43m(\u001b[49m\u001b[43m)\u001b[49m\n\u001b[1;32m    252\u001b[0m         \u001b[38;5;28mself\u001b[39m\u001b[38;5;241m.\u001b[39mf_updated \u001b[38;5;241m=\u001b[39m \u001b[38;5;28;01mTrue\u001b[39;00m\n",
      "File \u001b[0;32m~/.local/lib/python3.8/site-packages/scipy/optimize/_differentiable_functions.py:155\u001b[0m, in \u001b[0;36mScalarFunction.__init__.<locals>.update_fun\u001b[0;34m()\u001b[0m\n\u001b[1;32m    154\u001b[0m \u001b[38;5;28;01mdef\u001b[39;00m \u001b[38;5;21mupdate_fun\u001b[39m():\n\u001b[0;32m--> 155\u001b[0m     \u001b[38;5;28mself\u001b[39m\u001b[38;5;241m.\u001b[39mf \u001b[38;5;241m=\u001b[39m \u001b[43mfun_wrapped\u001b[49m\u001b[43m(\u001b[49m\u001b[38;5;28;43mself\u001b[39;49m\u001b[38;5;241;43m.\u001b[39;49m\u001b[43mx\u001b[49m\u001b[43m)\u001b[49m\n",
      "File \u001b[0;32m~/.local/lib/python3.8/site-packages/scipy/optimize/_differentiable_functions.py:137\u001b[0m, in \u001b[0;36mScalarFunction.__init__.<locals>.fun_wrapped\u001b[0;34m(x)\u001b[0m\n\u001b[1;32m    133\u001b[0m \u001b[38;5;28mself\u001b[39m\u001b[38;5;241m.\u001b[39mnfev \u001b[38;5;241m+\u001b[39m\u001b[38;5;241m=\u001b[39m \u001b[38;5;241m1\u001b[39m\n\u001b[1;32m    134\u001b[0m \u001b[38;5;66;03m# Send a copy because the user may overwrite it.\u001b[39;00m\n\u001b[1;32m    135\u001b[0m \u001b[38;5;66;03m# Overwriting results in undefined behaviour because\u001b[39;00m\n\u001b[1;32m    136\u001b[0m \u001b[38;5;66;03m# fun(self.x) will change self.x, with the two no longer linked.\u001b[39;00m\n\u001b[0;32m--> 137\u001b[0m fx \u001b[38;5;241m=\u001b[39m \u001b[43mfun\u001b[49m\u001b[43m(\u001b[49m\u001b[43mnp\u001b[49m\u001b[38;5;241;43m.\u001b[39;49m\u001b[43mcopy\u001b[49m\u001b[43m(\u001b[49m\u001b[43mx\u001b[49m\u001b[43m)\u001b[49m\u001b[43m,\u001b[49m\u001b[43m \u001b[49m\u001b[38;5;241;43m*\u001b[39;49m\u001b[43margs\u001b[49m\u001b[43m)\u001b[49m\n\u001b[1;32m    138\u001b[0m \u001b[38;5;66;03m# Make sure the function returns a true scalar\u001b[39;00m\n\u001b[1;32m    139\u001b[0m \u001b[38;5;28;01mif\u001b[39;00m \u001b[38;5;129;01mnot\u001b[39;00m np\u001b[38;5;241m.\u001b[39misscalar(fx):\n",
      "\u001b[0;31mTypeError\u001b[0m: cost_function() missing 2 required positional arguments: 'target' and 'num_layers'"
     ]
    }
   ],
   "source": [
    "# 학습 설정\n",
    "epochs = 100\n",
    "learning_rate = 0.01\n",
    "\n",
    "\n",
    "# 학습 루프\n",
    "for epoch in range(epochs):\n",
    "    # 그라디언트를 저장할 배열 초기화\n",
    "    grads = np.zeros_like(params.flatten())  # params.flatten()으로 모든 파라미터에 대한 평평한 배열 생성\n",
    "\n",
    "    # 모든 파라미터에 대해 그라디언트 계산\n",
    "    for i in range(len(params.flatten())):\n",
    "        # 각 파라미터에 대한 기울기 계산\n",
    "        grads[i] = parameter_shift_term(single_data_point_ansatz, params, i, phis, xdata, num_layers)\n",
    "    \n",
    "    # 그라디언트의 모양을 원래 params의 모양으로 재구성\n",
    "    grads = grads.reshape(params.shape)\n",
    "    \n",
    "    # 파라미터 업데이트    \n",
    "    params = params.flatten()\n",
    "    target = target.flatten()\n",
    "\n",
    "    # Using Scipy's minimize function with the LBFGS method\n",
    "    result = minimize(cost_function, params, args=(xdata, target), method='L-BFGS-B')\n",
    "\n",
    "    # Extract the optimized parameters\n",
    "    params = result.x\n",
    "    \n",
    "\n",
    "    # 손실 계산\n",
    "    loss = cost_function(params, phis, xdata, target, num_layers)\n",
    "    print(f\"Epoch {epoch+1}, Loss: {loss}\")\n",
    "\n",
    "# 최종 파라미터 출력\n",
    "print(\"최적화된 파라미터:\", params)\n"
   ]
  },
  {
   "cell_type": "code",
   "execution_count": null,
   "metadata": {},
   "outputs": [],
   "source": []
  },
  {
   "cell_type": "code",
   "execution_count": null,
   "metadata": {},
   "outputs": [],
   "source": []
  },
  {
   "cell_type": "code",
   "execution_count": null,
   "metadata": {},
   "outputs": [],
   "source": []
  },
  {
   "cell_type": "code",
   "execution_count": null,
   "metadata": {},
   "outputs": [],
   "source": []
  },
  {
   "cell_type": "code",
   "execution_count": 9,
   "metadata": {},
   "outputs": [],
   "source": [
    "xdim = 4\n",
    "num_qubits = math.ceil(xdim / 2)\n",
    "num_layers = 1\n",
    "\n",
    "xdata = np.random.uniform(size=(1, xdim), requires_grad=False)\n",
    "thetas = np.random.uniform(size=xdim*num_layers*5, requires_grad=True)\n",
    "phis = np.random.uniform(size=(num_qubits,1), requires_grad =True)\n",
    "\n",
    "params = 0\n",
    "params += thetas\n",
    "\n",
    "\n",
    "for i in range(len(Xdata)):\n",
    "    param_index = 1\n",
    "    for _ in range(num_layers):\n",
    "        for j in range(xdim):\n",
    "            params[param_index] = thetas[param_index] * Xdata[i][j]\n",
    "            param_index += 5\n",
    "\n",
    "    # print(Ansatz(params, phis, xdim, num_layers))"
   ]
  },
  {
   "cell_type": "code",
   "execution_count": 10,
   "metadata": {},
   "outputs": [
    {
     "name": "stdout",
     "output_type": "stream",
     "text": [
      "[-0.13852134]\n"
     ]
    }
   ],
   "source": [
    "def parameter_shift_term(qnode, params, x_i, phis, xdim, num_layers):\n",
    "    \"\"\"\n",
    "    Basic Parameter shift rule for each x_i i= 0,1, ..., xdim\n",
    "   \n",
    "    INPUT\n",
    "    qnode :  circuit ansatz we designed\n",
    "    parmas : (array) of parameters we put in the circuit\n",
    "    x_i : (int) ${{\\partial f(\\theta)} \\over {\\partial x_i}}$\n",
    "    phis : (array) the last parameters of the circuit\n",
    "    ndim : (int) dimenstion of $\\vec{x}$\n",
    "    num_layers : (int) number of layer we make for the model\n",
    "\n",
    "    OUTPUT\n",
    "    expectation value where we apply the Basic PSR for the circuit\n",
    "    \"\"\"\n",
    "\n",
    "    shifted = params.copy()\n",
    "    i = x_i*5\n",
    "    for _ in range(num_layers):\n",
    "\n",
    "        shifted[i: i+5] += np.pi/2\n",
    "        forward = qnode(shifted, phis, xdim, num_layers)  # forward evaluation\n",
    "\n",
    "        shifted[i: i+5] -= np.pi/2\n",
    "        backward = qnode(shifted, phis, xdim, num_layers) # backward evaluation\n",
    "        \n",
    "        i += xdim*5\n",
    "\n",
    "    return 0.5 * (forward - backward)\n",
    "\n",
    "# gradient with respect to  x_0\n",
    "print(parameter_shift_term(Ansatz, params, 0, phis, xdim, num_layers))"
   ]
  },
  {
   "cell_type": "code",
   "execution_count": 11,
   "metadata": {},
   "outputs": [
    {
     "name": "stdout",
     "output_type": "stream",
     "text": [
      "[-0.13852134 -0.10568801  0.0054801   0.11752005]\n"
     ]
    }
   ],
   "source": [
    "def parameter_shift(qnode, params, phis, xdim, num_layers):\n",
    "    \"\"\"\n",
    "    PSR applying to the whole circuit and getting the gradient vector as array\n",
    "\n",
    "    INPUT\n",
    "    qnode : circuit model\n",
    "    params : parameters that are in the circuit except the last layer\n",
    "    phis : parameters for the last RY gate\n",
    "    xdim : dimension of $\\vec{x}$\n",
    "    num_layers : number of layers\n",
    "\n",
    "    OUTPUT\n",
    "    gradient vector of the quantum circuit\n",
    "    \"\"\"\n",
    "    gradients = np.zeros([xdim])\n",
    "\n",
    "    for i in range(xdim):\n",
    "        gradients[i] = parameter_shift_term(qnode, params, i, phis, xdim, num_layers)\n",
    "\n",
    "    return gradients\n",
    "\n",
    "print(parameter_shift(Ansatz, params, phis, xdim, num_layers))"
   ]
  },
  {
   "cell_type": "code",
   "execution_count": 12,
   "metadata": {},
   "outputs": [
    {
     "ename": "SyntaxError",
     "evalue": "non-default argument follows default argument (4069589838.py, line 1)",
     "output_type": "error",
     "traceback": [
      "\u001b[0;36m  Cell \u001b[0;32mIn[12], line 1\u001b[0;36m\u001b[0m\n\u001b[0;31m    def loss_function(qnode = Ansatz, thetas, phis, xdata=Xdata[0], xdim, num_layers, target):\u001b[0m\n\u001b[0m                      ^\u001b[0m\n\u001b[0;31mSyntaxError\u001b[0m\u001b[0;31m:\u001b[0m non-default argument follows default argument\n"
     ]
    }
   ],
   "source": [
    "def loss_function(qnode = Ansatz, thetas, phis, xdata=Xdata[0], xdim, num_layers, target):\n",
    "    \"\"\"\n",
    "    loss function\n",
    "\n",
    "    INPUT\n",
    "    \n",
    "\n",
    "    OUTPUT\n",
    "    loss with MSE\n",
    "    \"\"\"\n",
    "    \n",
    "    params = 0\n",
    "    params += thetas\n",
    "    param_index = 1\n",
    "\n",
    "    for _ in range(num_layers):\n",
    "        for j in range(xdim):\n",
    "            params[param_index] = thetas[param_index] * xdata[j]\n",
    "            param_index += 5\n",
    "\n",
    "\n",
    "    gradient = parameter_shift(Ansatz, params, phis, xdim, num_layers)\n",
    "    \n",
    "    \n"
   ]
  },
  {
   "cell_type": "code",
   "execution_count": null,
   "metadata": {},
   "outputs": [],
   "source": []
  }
 ],
 "metadata": {
  "kernelspec": {
   "display_name": "Python 3 (ipykernel)",
   "language": "python",
   "name": "python3"
  },
  "language_info": {
   "codemirror_mode": {
    "name": "ipython",
    "version": 3
   },
   "file_extension": ".py",
   "mimetype": "text/x-python",
   "name": "python",
   "nbconvert_exporter": "python",
   "pygments_lexer": "ipython3",
   "version": "3.8.10"
  }
 },
 "nbformat": 4,
 "nbformat_minor": 4
}
