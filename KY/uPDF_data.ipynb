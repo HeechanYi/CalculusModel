{
 "cells": [
  {
   "cell_type": "code",
   "execution_count": 1,
   "id": "e531b9f1-a21f-4ef9-9c86-fb9fe0f07354",
   "metadata": {},
   "outputs": [
    {
     "name": "stderr",
     "output_type": "stream",
     "text": [
      "[Qibo 0.2.2|INFO|2024-03-25 11:23:27]: Using numpy backend on /CPU:0\n",
      "2024-03-25 11:23:27.844070: E tensorflow/stream_executor/cuda/cuda_blas.cc:2981] Unable to register cuBLAS factory: Attempting to register factory for plugin cuBLAS when one has already been registered\n",
      "2024-03-25 11:23:28.697898: W tensorflow/stream_executor/platform/default/dso_loader.cc:64] Could not load dynamic library 'libnvinfer.so.7'; dlerror: libnvinfer.so.7: cannot open shared object file: No such file or directory; LD_LIBRARY_PATH: /home/kban/MG5_aMC/ExRootAnalysis:/SATA_SSD/kban/HEPTools/MG5_aMC_v3_4_1/HEPTools/lhapdf6_py3/lib:/SATA_SSD/kban/HEPTools/root../root_build/lib:/SATA_SSD/kban/HEPTools/root/include:/SATA_SSD/kban/HEPTools/root/lib:/SATA_SSD/kban/HEPTools/MG5_aMC_v3_4_1/HEPTools/fastjet/lib:/SATA_SSD/kban/HEPTools/MG5_aMC_v3_4_1/HEPTools/hepmc/lib:/usr/local/cuda/lib64:/usr/local/cuda/extras/CUPTI/:/home/kban/MG5_aMC/ExRootAnalysis:/SATA_SSD/kban/HEPTools/MG5_aMC_v3_4_1/HEPTools/lhapdf6_py3/lib:/SATA_SSD/kban/HEPTools/root../root_build/lib:/SATA_SSD/kban/HEPTools/root/include:/SATA_SSD/kban/HEPTools/root/lib:/SATA_SSD/kban/HEPTools/MG5_aMC_v3_4_1/HEPTools/fastjet/lib:/SATA_SSD/kban/HEPTools/MG5_aMC_v3_4_1/HEPTools/hepmc/lib:/home/kban/MG5_aMC/ExRootAnalysis:/SATA_SSD/kban/HEPTools/MG5_aMC_v3_4_1/HEPTools/lhapdf6_py3/lib:/SATA_SSD/kban/HEPTools/root../root_build/lib:/SATA_SSD/kban/HEPTools/root/include:/SATA_SSD/kban/HEPTools/root/lib:/SATA_SSD/kban/HEPTools/MG5_aMC_v3_4_1/HEPTools/fastjet/lib:/SATA_SSD/kban/HEPTools/MG5_aMC_v3_4_1/HEPTools/hepmc/lib:/usr/local/cuda/lib64:/usr/local/cuda/extras/CUPTI/:/usr/local/cuda/lib64:/usr/local/cuda/extras/CUPTI/::/SATA_SSD/kban/HEPTools/root/lib:/SATA_SSD/kban/HEPTools/root/lib:/SATA_SSD/kban/HEPTools/root/lib\n",
      "2024-03-25 11:23:28.698042: W tensorflow/stream_executor/platform/default/dso_loader.cc:64] Could not load dynamic library 'libnvinfer_plugin.so.7'; dlerror: libnvinfer_plugin.so.7: cannot open shared object file: No such file or directory; LD_LIBRARY_PATH: /home/kban/MG5_aMC/ExRootAnalysis:/SATA_SSD/kban/HEPTools/MG5_aMC_v3_4_1/HEPTools/lhapdf6_py3/lib:/SATA_SSD/kban/HEPTools/root../root_build/lib:/SATA_SSD/kban/HEPTools/root/include:/SATA_SSD/kban/HEPTools/root/lib:/SATA_SSD/kban/HEPTools/MG5_aMC_v3_4_1/HEPTools/fastjet/lib:/SATA_SSD/kban/HEPTools/MG5_aMC_v3_4_1/HEPTools/hepmc/lib:/usr/local/cuda/lib64:/usr/local/cuda/extras/CUPTI/:/home/kban/MG5_aMC/ExRootAnalysis:/SATA_SSD/kban/HEPTools/MG5_aMC_v3_4_1/HEPTools/lhapdf6_py3/lib:/SATA_SSD/kban/HEPTools/root../root_build/lib:/SATA_SSD/kban/HEPTools/root/include:/SATA_SSD/kban/HEPTools/root/lib:/SATA_SSD/kban/HEPTools/MG5_aMC_v3_4_1/HEPTools/fastjet/lib:/SATA_SSD/kban/HEPTools/MG5_aMC_v3_4_1/HEPTools/hepmc/lib:/home/kban/MG5_aMC/ExRootAnalysis:/SATA_SSD/kban/HEPTools/MG5_aMC_v3_4_1/HEPTools/lhapdf6_py3/lib:/SATA_SSD/kban/HEPTools/root../root_build/lib:/SATA_SSD/kban/HEPTools/root/include:/SATA_SSD/kban/HEPTools/root/lib:/SATA_SSD/kban/HEPTools/MG5_aMC_v3_4_1/HEPTools/fastjet/lib:/SATA_SSD/kban/HEPTools/MG5_aMC_v3_4_1/HEPTools/hepmc/lib:/usr/local/cuda/lib64:/usr/local/cuda/extras/CUPTI/:/usr/local/cuda/lib64:/usr/local/cuda/extras/CUPTI/::/SATA_SSD/kban/HEPTools/root/lib:/SATA_SSD/kban/HEPTools/root/lib:/SATA_SSD/kban/HEPTools/root/lib\n",
      "2024-03-25 11:23:28.698052: W tensorflow/compiler/tf2tensorrt/utils/py_utils.cc:38] TF-TRT Warning: Cannot dlopen some TensorRT libraries. If you would like to use Nvidia GPU with TensorRT, please make sure the missing libraries mentioned above are installed properly.\n"
     ]
    }
   ],
   "source": [
    "\"\"\"\n",
    "    Main script to launch the examples and benchmarks\n",
    "\"\"\"\n",
    "from argparse import ArgumentParser, ArgumentTypeError\n",
    "import copy\n",
    "import functools\n",
    "from inspect import signature\n",
    "import json\n",
    "from pathlib import Path\n",
    "import tempfile\n",
    "\n",
    "from matplotlib import pyplot as plt\n",
    "import numpy as np\n",
    "\n",
    "from optimization import available_optimizers, launch_optimization\n",
    "from quanting import available_ansatz, generate_ansatz_pool\n",
    "from target import available_targets\n",
    "\n",
    "TARGETS = list(available_targets.keys())\n",
    "ANSATZS = list(available_ansatz.keys())\n",
    "OPTIMIZ = list(available_optimizers.keys())\n",
    "nicered = \"#ff6150\"\n",
    "\n",
    "\n",
    "def check_qbits(var):\n",
    "    nqbit = int(var)\n",
    "    if nqbit < 1:\n",
    "        raise ArgumentTypeError(\"Number of qubits must be positive\")\n",
    "    return nqbit\n",
    "\n",
    "\n",
    "def valid_this(val_raw, options, name=\"\"):\n",
    "    \"\"\"Ensures that the option val_raw is included in the available options\"\"\"\n",
    "    # Make sure that everything is lowercase\n",
    "    val = val_raw.lower()\n",
    "    options = {i.lower(): k for i, k in options.items()}\n",
    "    if val not in options:\n",
    "        ava = list(options.keys())\n",
    "        raise ArgumentTypeError(f\"{name} {val_raw} not allowed, allowed options are {ava}\")\n",
    "    return options[val]\n",
    "\n",
    "\n",
    "def valid_target(val_raw):\n",
    "    return valid_this(val_raw, available_targets, \"Target\")\n",
    "\n",
    "\n",
    "def valid_ansatz(val_raw, pdf_alpha=None, nderivatives=None):\n",
    "    \"\"\"Ensures that the selected ansatz exists\n",
    "    Note that this does not check whether the number of dimensions/qbits/etc is acceptable\n",
    "    acyclic graphs are beyond of the scope of this project...\n",
    "    \"\"\"\n",
    "    ansatz_class = valid_this(val_raw, available_ansatz, \"Ansatz\")\n",
    "\n",
    "    if pdf_alpha is not None:\n",
    "        if \"alpha\" not in signature(ansatz_class).parameters.keys():\n",
    "            raise ArgumentTypeError(f\"pdf_alpha is not allowed for the ansatz {val_raw}\")\n",
    "        ansatz_class = functools.partial(ansatz_class, alpha=pdf_alpha)\n",
    "\n",
    "    return ansatz_class\n",
    "\n",
    "\n",
    "def valid_optimizer(val_raw):\n",
    "    return valid_this(val_raw, available_optimizers, \"Optimizer\")\n",
    "\n",
    "\n",
    "def ratio(pred, target, eps=1e-3):\n",
    "    tts = np.where(np.abs(target) > eps, target, np.sign(target) * eps)\n",
    "    ccs = np.where(np.abs(pred) > eps, pred, np.sign(pred) * eps)\n",
    "    return np.abs(tts / ccs)\n",
    "\n",
    "\n",
    "def plot_uquark(predictor, target, xmin, xmax, output_folder, npoints=50):\n",
    "    \"\"\"Plot botht he predictor and the target\"\"\"\n",
    "    xmin = np.array(xmin)\n",
    "    xmax = np.array(xmax)\n",
    "\n",
    "    for d in range(target.ndim):\n",
    "        xaxis_scale = \"log\"  # target.dimension_scale(d)\n",
    "        # Create a linear space in the dimension we are plotting\n",
    "        xlin = np.linspace(xmin[d], xmax[d], npoints)\n",
    "\n",
    "        if xaxis_scale == \"log\":\n",
    "            # change to log\n",
    "            xlin = np.logspace(np.log10(xmin[d]), np.log10(xmax[d]), npoints)\n",
    "\n",
    "        for i in range(target.ndim):\n",
    "            # For every extra dimension do an extra plot so that we have more random points\n",
    "            # in the other dimensions\n",
    "\n",
    "            # Select a random point in the other dimensions\n",
    "            xran_origin = np.random.rand(target.ndim) * (xmax - xmin) + xmin\n",
    "\n",
    "            ytrue = []\n",
    "            all_xs = []\n",
    "\n",
    "            for xx in xlin:\n",
    "                xran = copy.deepcopy(xran_origin)\n",
    "                xran[d] = xx\n",
    "                ytrue.append(target(xran))\n",
    "                all_xs.append(xran)\n",
    "\n",
    "            ypred = predictor.vectorized_forward_pass(all_xs)\n",
    "\n",
    "            if target.ndim == 2:\n",
    "                # when there is only 2 dimensions only one variable is fixed\n",
    "                # and so we can actually write the numerical value\n",
    "                other_d = (d + 1) % 2\n",
    "                fixed_name = target.dimension_name(other_d)\n",
    "                tag = f\"{fixed_name}={xran[other_d]:.2}\"\n",
    "            else:\n",
    "                tag = f\"n{i}\"\n",
    "\n",
    "            rr = ratio(ypred, ytrue)\n",
    "\n",
    "            # plotting\n",
    "            fig, (ax1, ax2) = plt.subplots(\n",
    "                2, 1, sharex=True, figsize=(4.5, 4.5 * 6 / 8), gridspec_kw={\"height_ratios\": [5, 2]}\n",
    "            )\n",
    "\n",
    "            ax1.plot(\n",
    "                xlin,\n",
    "                ypred,\n",
    "                label=f\"Approximation {tag}\",\n",
    "                linewidth=2.5,\n",
    "                alpha=0.9,\n",
    "                ls=\"-\",\n",
    "                color=\"#ff6150\",\n",
    "            )\n",
    "            ax1.plot(\n",
    "                xlin,\n",
    "                np.stack(ytrue),\n",
    "                label=f\"Target $u$-quark {tag}\",\n",
    "                linewidth=1.5,\n",
    "                alpha=0.7,\n",
    "                ls=\"--\",\n",
    "                color=\"black\",\n",
    "            )\n",
    "            ax1.grid(False)\n",
    "            ax1.set_xscale(xaxis_scale)\n",
    "            ax1.set_ylabel(r\"$u\\,f(x)$\")\n",
    "            ax1.set_title(rf\"$u$-quark PDF fit\", fontsize=12)\n",
    "            fig.legend(bbox_to_anchor=(0.55, 0.52), framealpha=1)\n",
    "\n",
    "            ax2.plot(xlin, rr, color=nicered, lw=2.5, alpha=0.9)\n",
    "            ax2.hlines(1, 1e-4, 1, color=\"black\", ls=\"--\", lw=1.5, alpha=0.7)\n",
    "            ax2.grid(False)\n",
    "            ax2.set_xscale(xaxis_scale)\n",
    "            ax2.set_xlabel(r\"x\")\n",
    "            ax2.set_ylabel(\"Ratio\")\n",
    "            ax2.set_ylim(0.97, 1.03)\n",
    "\n",
    "            plt.rcParams[\"xtick.bottom\"] = True\n",
    "            plt.rcParams[\"ytick.left\"] = True\n",
    "\n",
    "            fig.subplots_adjust(wspace=0, hspace=0)\n",
    "\n",
    "        plt.savefig(output_folder / f\"uquark1d.pdf\", bbox_inches=\"tight\")\n",
    "        plt.close()\n",
    "\n",
    "\n",
    "def plot_integrand(predictor, target, xmin, xmax, output_folder, npoints=50):\n",
    "    if \"quark\" in str(target):\n",
    "        return plot_uquark(predictor, target, xmin, xmax, output_folder, npoints=50)\n",
    "\n",
    "    xmin = np.array(xmin)\n",
    "    xmax = np.array(xmax)\n",
    "\n",
    "    for d in range(target.ndim):\n",
    "        xaxis_name = target.dimension_name(d)\n",
    "        xaxis_scale = target.dimension_scale(d)\n",
    "        # Create a linear space in the dimension we are plotting\n",
    "        xlin = np.linspace(xmin[d], xmax[d], npoints)\n",
    "\n",
    "        if xaxis_scale == \"log\":\n",
    "            # change to log\n",
    "            xlin = np.logspace(np.log10(xmin[d]), np.log10(xmax[d]), npoints)\n",
    "\n",
    "        for i in range(target.ndim):\n",
    "            # For every extra dimension do an extra plot so that we have more random points\n",
    "            # in the other dimensions\n",
    "\n",
    "            # Select a random point in the other dimensions\n",
    "            xran_origin = np.random.rand(target.ndim) * (xmax - xmin) + xmin\n",
    "\n",
    "            ytrue = []\n",
    "            all_xs = []\n",
    "\n",
    "            for xx in xlin:\n",
    "                xran = copy.deepcopy(xran_origin)\n",
    "                xran[d] = xx\n",
    "                ytrue.append(target(xran))\n",
    "                all_xs.append(xran)\n",
    "\n",
    "            ypred = predictor.vectorized_forward_pass(all_xs)\n",
    "\n",
    "            if target.ndim == 2:\n",
    "                # when there is only 2 dimensions only one variable is fixed\n",
    "                # and so we can actually write the numerical value\n",
    "                other_d = (d + 1) % 2\n",
    "                fixed_name = target.dimension_name(other_d)\n",
    "                tag = f\"{fixed_name}={xran[other_d]:.2}\"\n",
    "            else:\n",
    "                tag = f\"n={i}\"\n",
    "\n",
    "            color = plt.rcParams[\"axes.prop_cycle\"].by_key()[\"color\"][i]\n",
    "\n",
    "            plt.plot(\n",
    "                xlin,\n",
    "                ypred,\n",
    "                label=f\"Approximation {tag}\",\n",
    "                linewidth=2.5,\n",
    "                alpha=0.6,\n",
    "                ls=\"-\",\n",
    "                color=color,\n",
    "            )\n",
    "            plt.plot(\n",
    "                xlin,\n",
    "                np.stack(ytrue),\n",
    "                label=f\"Target {tag}\",\n",
    "                linewidth=1.5,\n",
    "                alpha=0.8,\n",
    "                ls=\"--\",\n",
    "                color=color,\n",
    "            )\n",
    "\n",
    "        plt.grid(True)\n",
    "        plt.xscale(xaxis_scale)\n",
    "        # plt.title(f\"Integrand fit, dependence on {xaxis_name}\")\n",
    "        plt.xlabel(rf\"${xaxis_name}$\")\n",
    "        plt.xlabel(r\"x\")\n",
    "        plt.ylabel(r\"$u\\,f(x)$\")\n",
    "        plt.savefig(output_folder / f\"output_plot_d{d+1}.pdf\")\n",
    "        plt.close()\n",
    "\n",
    "\n",
    "def _generate_limits(xmin, xmax, dimensions=1):\n",
    "    \"\"\"Generate the lists of limits to evaluate the primitive at\n",
    "\n",
    "    For the dimensions that are not integrated the upper limits\n",
    "    will be used as value with which the circuit will be called\n",
    "\n",
    "    Parameters\n",
    "    ---------\n",
    "        xmin: list of inferior limits (one per dimension)\n",
    "        xmax: list of superior limits\n",
    "        dimensions: int\n",
    "            dimensions over which the integral is taken\n",
    "\n",
    "    Returns\n",
    "    -------\n",
    "        limits: list of 1d arrays with one value per dimension\n",
    "        signs: list of same size with + or -\n",
    "    \"\"\"\n",
    "    limits = [np.array([])]\n",
    "    signs = [1.0]\n",
    "    for i, (xm, xp) in enumerate(zip(xmin, xmax)):\n",
    "        next_l = []\n",
    "        next_s = []\n",
    "        for curr_l, curr_s in zip(limits, signs):\n",
    "            if i < dimensions:\n",
    "                next_l.append(np.concatenate([curr_l, [xm]]))\n",
    "                next_s.append(-curr_s)\n",
    "\n",
    "            next_l.append(np.concatenate([curr_l, [xp]]))\n",
    "            next_s.append(curr_s)\n",
    "        limits = next_l\n",
    "        signs = next_s\n",
    "\n",
    "    return limits, signs\n",
    "\n",
    "\n",
    "def _generate_integration_x(xmin, xmax, padding=False, npoints=int(5e2)):\n",
    "    \"\"\"Generate a set of random poitns within the integration limits\"\"\"\n",
    "    xmin = np.array(xmin)\n",
    "    xmax = np.array(xmax)\n",
    "    if padding:\n",
    "        xdelta = xmax - xmin\n",
    "        xmin -= 0.1 * xdelta\n",
    "        xmax += 0.1 * xdelta\n",
    "    return np.random.rand(npoints, len(xmin)) * (xmax - xmin) + xmin\n",
    "\n",
    "\n",
    "def error_over_runs(results, errors):  # not being used at the moment\n",
    "    \"\"\"Calculate error of the measurements provided with their errors\"\"\"\n",
    "    N = len(results)\n",
    "    var = np.var(results)\n",
    "    return var**2 / N + (1 / N**2) * np.sum(errors**2)"
   ]
  },
  {
   "cell_type": "code",
   "execution_count": 2,
   "id": "12eb1070-ca07-4285-901f-7bd938451f60",
   "metadata": {},
   "outputs": [],
   "source": [
    "from target import *"
   ]
  },
  {
   "cell_type": "code",
   "execution_count": 3,
   "id": "4f22b940-5a67-4d10-8400-9e120d5c7837",
   "metadata": {},
   "outputs": [],
   "source": [
    "target_function = \"uquark2d\"  # 대상 함수\n",
    "a_target = valid_target(target_function)\n"
   ]
  },
  {
   "cell_type": "code",
   "execution_count": 4,
   "id": "9d5dbf17-446d-40dc-b891-45d0a189eafd",
   "metadata": {},
   "outputs": [
    {
     "name": "stderr",
     "output_type": "stream",
     "text": [
      "[INFO] (pdfflow.pflow) Loading member 0 from nnpdf40\n"
     ]
    },
    {
     "name": "stdout",
     "output_type": "stream",
     "text": [
      "Preparing xu(x) with d=2\n"
     ]
    }
   ],
   "source": [
    "target_fun = a_target(ndim=2)"
   ]
  },
  {
   "cell_type": "code",
   "execution_count": 5,
   "id": "8a544f51-5f6a-4a91-b430-1895785af9e1",
   "metadata": {},
   "outputs": [],
   "source": [
    "xarr = np.array(target_fun.xgrid).reshape(-1, target_fun.ndim)"
   ]
  },
  {
   "cell_type": "code",
   "execution_count": 6,
   "id": "7a7c510d-b363-4c43-85e4-54d1653f34be",
   "metadata": {},
   "outputs": [],
   "source": [
    "ydata = np.array([target_fun(i) for i in xarr])"
   ]
  },
  {
   "cell_type": "code",
   "execution_count": 7,
   "id": "69230176-3809-450d-888f-7b40344e18e1",
   "metadata": {},
   "outputs": [],
   "source": [
    "from pdfflow import mkPDF"
   ]
  },
  {
   "cell_type": "code",
   "execution_count": 8,
   "id": "cd88a011-bd99-49e7-a8d3-bceecf3f8f56",
   "metadata": {},
   "outputs": [
    {
     "name": "stderr",
     "output_type": "stream",
     "text": [
      "[INFO] (pdfflow.pflow) Loading member 0 from nnpdf40\n"
     ]
    }
   ],
   "source": [
    "from pathlib import Path\n",
    "import os\n",
    "\n",
    "# For Jupyter notebooks\n",
    "notebook_path = %pwd\n",
    "dirname = Path(notebook_path).parent\n",
    "\n",
    "_pdf = mkPDF(\"nnpdf40/0\", dirname=notebook_path)"
   ]
  },
  {
   "cell_type": "code",
   "execution_count": 70,
   "id": "2d70a608-01d7-498a-9f18-5aefe7880110",
   "metadata": {},
   "outputs": [],
   "source": [
    "_min_x = 1e-3\n",
    "_min_q = 25.0\n",
    "_max_x = 0.7\n",
    "_max_q = 125.0"
   ]
  },
  {
   "cell_type": "code",
   "execution_count": 71,
   "id": "164ba53e-d235-471b-8a9a-371982dc9555",
   "metadata": {},
   "outputs": [],
   "source": [
    "q = _min_q + xarr[:,1] * (_max_q - _min_q)"
   ]
  },
  {
   "cell_type": "code",
   "execution_count": 72,
   "id": "882393d5-769d-462e-8def-c9fcaa0b8c24",
   "metadata": {},
   "outputs": [],
   "source": [
    "q_167 = np.array([1.67]*12000)"
   ]
  },
  {
   "cell_type": "code",
   "execution_count": 73,
   "id": "e0dd31ac-05af-43ae-b4fa-18dedbb32e1d",
   "metadata": {},
   "outputs": [
    {
     "data": {
      "text/plain": [
       "(0.0, 0.8)"
      ]
     },
     "execution_count": 73,
     "metadata": {},
     "output_type": "execute_result"
    },
    {
     "data": {
      "image/png": "[encoded data removed]",
      "text/plain": [
       "<Figure size 640x480 with 1 Axes>"
      ]
     },
     "metadata": {},
     "output_type": "display_data"
    }
   ],
   "source": [
    "## 논문 Figure 4 when Q=1.67 with x = (0.001~0.7)\n",
    "plt.scatter(xarr[:500,0], _pdf.py_xfxQ2(2, xarr[:,0], q_167**2).numpy()[:500])\n",
    "plt.xscale('log')\n",
    "plt.ylim(0,0.8)"
   ]
  },
  {
   "cell_type": "code",
   "execution_count": 74,
   "id": "6757b4c4-e34b-4e88-a327-ca2f8a2acc7e",
   "metadata": {},
   "outputs": [
    {
     "data": {
      "text/plain": [
       "(0.1, 100)"
      ]
     },
     "execution_count": 74,
     "metadata": {},
     "output_type": "execute_result"
    },
    {
     "data": {
      "image/png": "[encoded data removed]",
      "text/plain": [
       "<Figure size 640x480 with 1 Axes>"
      ]
     },
     "metadata": {},
     "output_type": "display_data"
    }
   ],
   "source": [
    "## plot with various Q**2 values\n",
    "plt.scatter(xarr[:,0], _pdf.py_xfxQ2(2, xarr[:,0], q**2).numpy())\n",
    "plt.xlabel(\"$x$\")\n",
    "plt.ylabel(\"$xu(x)$\")\n",
    "plt.xscale('log')\n",
    "plt.yscale('log')\n",
    "plt.ylim(0.1,100)"
   ]
  },
  {
   "cell_type": "code",
   "execution_count": null,
   "id": "5d9f923a-cc78-4744-891d-fd88622d9cec",
   "metadata": {},
   "outputs": [],
   "source": []
  },
  {
   "cell_type": "code",
   "execution_count": 86,
   "id": "efce1e59-f2d1-4558-a3c9-f3d83a43839d",
   "metadata": {},
   "outputs": [],
   "source": [
    "def integral(xmin, xmax, scaled_q=1.0, verbose=True, exact=False):\n",
    "    q = scaled_q * (_max_q - _min_q) + _min_q\n",
    "    if verbose:\n",
    "        print(f\"Computing the integral for {q=}\")\n",
    "\n",
    "#     if exact:\n",
    "#         # This is slower but exact, otherwise just approximate the integration\n",
    "#         # fun = lambda x: self([x, scaled_q])\n",
    "#         fun = lambda x: _pdf.py_xfxQ2(2, [x], [scaled_q**2]).numpy()\n",
    "#         return nquad(fun, [(xmin, xmax)])\n",
    "\n",
    "    npoints = 2000\n",
    "\n",
    "    # Take only the x\n",
    "    if not isinstance(xmin, (float, int)):\n",
    "        xmin = xmin[0]\n",
    "        xmax = xmax[0]\n",
    "\n",
    "    # First integrate at small x\n",
    "    xgrids = []\n",
    "    if xmin < 0.1:\n",
    "        xgrids.append(np.logspace(np.log(xmin), -1, npoints // 2))\n",
    "    if xmax > 0.1:\n",
    "        xgrids.append(np.linspace(0.1, xmax, npoints // 2))\n",
    "    xgrid = np.concatenate(xgrids)\n",
    "\n",
    "    # Get weights\n",
    "    sp = np.diff(xgrid, append=xgrid[-1], prepend=xgrid[0])\n",
    "    weights = (sp[1:] + sp[:-1]) / 2.0\n",
    "\n",
    "    q2grid = np.ones_like(xgrid) * q**2\n",
    "\n",
    "    pdf_vals = _pdf.py_xfxQ2(2, xgrid, q2grid)\n",
    "\n",
    "    return np.sum(pdf_vals * weights), 0.0"
   ]
  },
  {
   "cell_type": "code",
   "execution_count": null,
   "id": "6a9b8dcf-3948-4066-bd00-693bfd9a2b07",
   "metadata": {},
   "outputs": [],
   "source": []
  },
  {
   "cell_type": "code",
   "execution_count": 87,
   "id": "30227954-cbd0-45cf-b1c0-a1bb2d71ce60",
   "metadata": {
    "tags": []
   },
   "outputs": [],
   "source": [
    "n_points = 20\n",
    "qscaled_points = np.linspace(0, 1, n_points)\n",
    "q2points = (qscaled_points * (_max_q - _min_q) + _min_q) ** 2\n",
    "integral_results = []\n",
    "\n",
    "for qscaled, q2 in zip(qscaled_points, q2points):\n",
    "    res, error = integral(xmin=10**-4, xmax=0.7, scaled_q=qscaled, verbose=False, exact=False)\n",
    "    integral_results.append(res)"
   ]
  },
  {
   "cell_type": "code",
   "execution_count": 85,
   "id": "b72f5fff-ccbd-4fb1-ac24-9ac836c91344",
   "metadata": {},
   "outputs": [
    {
     "data": {
      "text/plain": [
       "[<matplotlib.lines.Line2D at 0x7f16805a3d90>]"
      ]
     },
     "execution_count": 85,
     "metadata": {},
     "output_type": "execute_result"
    },
    {
     "data": {
      "image/png": "[encoded data removed]",
      "text/plain": [
       "<Figure size 640x480 with 1 Axes>"
      ]
     },
     "metadata": {},
     "output_type": "display_data"
    }
   ],
   "source": [
    "plt.plot(q2points, integral_results)\n",
    "ax.set_xlabel(\"$x$\")\n",
    "ax.set_ylabel(\"$xu(x)$\")"
   ]
  },
  {
   "cell_type": "code",
   "execution_count": null,
   "id": "def14732-5c92-4052-958c-ecaa7430fe0f",
   "metadata": {},
   "outputs": [],
   "source": []
  },
  {
   "cell_type": "code",
   "execution_count": null,
   "id": "398526be-ebe6-4ff9-9a54-084985545766",
   "metadata": {},
   "outputs": [],
   "source": []
  },
  {
   "cell_type": "code",
   "execution_count": null,
   "id": "02963560-5d4b-4287-8159-f7ed894dfcbf",
   "metadata": {},
   "outputs": [],
   "source": []
  }
 ],
 "metadata": {
  "kernelspec": {
   "display_name": "Python 3 (ipykernel)",
   "language": "python",
   "name": "python3"
  },
  "language_info": {
   "codemirror_mode": {
    "name": "ipython",
    "version": 3
   },
   "file_extension": ".py",
   "mimetype": "text/x-python",
   "name": "python",
   "nbconvert_exporter": "python",
   "pygments_lexer": "ipython3",
   "version": "3.8.10"
  }
 },
 "nbformat": 4,
 "nbformat_minor": 5
}
