{
 "cells": [
  {
   "cell_type": "markdown",
   "metadata": {},
   "source": [
    "# Integration"
   ]
  },
  {
   "cell_type": "code",
   "execution_count": 1,
   "metadata": {},
   "outputs": [],
   "source": [
    "import pennylane as qml\n",
    "from pennylane.optimize import GradientDescentOptimizer\n",
    "from pennylane import numpy as np\n",
    "import math\n",
    "\n",
    "import matplotlib.pyplot as plt"
   ]
  },
  {
   "cell_type": "markdown",
   "metadata": {},
   "source": [
    "## Simple Integration... Let's start with just 1D integral"
   ]
  },
  {
   "cell_type": "markdown",
   "metadata": {},
   "source": [
    "### Data Generation"
   ]
  },
  {
   "cell_type": "code",
   "execution_count": 2,
   "metadata": {},
   "outputs": [],
   "source": [
    "# data = np.load('toy_data_10e4.npz') ## g = y = cos(x1 + 2*x2 + 0.5x3 + alpha0) 3d\n",
    "data = np.load('cos1d_data_10e4.npz') ## g = y = cos(x1 + alpha0) 1d"
   ]
  },
  {
   "cell_type": "code",
   "execution_count": 3,
   "metadata": {},
   "outputs": [
    {
     "name": "stdout",
     "output_type": "stream",
     "text": [
      "[[1.70477594 0.        ]\n",
      " [3.37372817 0.01002004]\n",
      " [0.10208212 0.02004008]\n",
      " ...\n",
      " [0.1794528  4.97995992]\n",
      " [2.07330657 4.98997996]\n",
      " [1.39937121 5.        ]]\n"
     ]
    }
   ],
   "source": [
    "Xdata = data['xdata']\n",
    "print(Xdata)"
   ]
  },
  {
   "cell_type": "code",
   "execution_count": 4,
   "metadata": {},
   "outputs": [
    {
     "name": "stdout",
     "output_type": "stream",
     "text": [
      "[-0.13357914 -0.97082334  0.99255235 ...  0.43228364  0.71084235\n",
      "  0.99325801]\n"
     ]
    }
   ],
   "source": [
    "Ydata = data['ydata']\n",
    "print(Ydata)"
   ]
  },
  {
   "cell_type": "markdown",
   "metadata": {},
   "source": [
    "### Circuit Model"
   ]
  },
  {
   "cell_type": "code",
   "execution_count": 5,
   "metadata": {},
   "outputs": [
    {
     "name": "stderr",
     "output_type": "stream",
     "text": [
      "/home/kban/.local/lib/python3.8/site-packages/pennylane_lightning/lightning_qubit/lightning_qubit.py:822: UserWarning: Pre-compiled binaries for lightning.qubit are not available. Falling back to using the Python-based default.qubit implementation. To manually compile from source, follow the instructions at https://pennylane-lightning.readthedocs.io/en/latest/installation.html.\n",
      "  warn(\n"
     ]
    }
   ],
   "source": [
    "dev_stochastic = qml.device(\"lightning.qubit\", wires=10)\n",
    "\n",
    "@qml.qnode(dev_stochastic, interface=\"autograd\", diff_method=\"parameter-shift\")\n",
    "def single_data_point_ansatz(params, phis, x, num_layers):\n",
    "    x = np.array(x, ndmin=1)  # `x`를 항상 배열로 처리\n",
    "    num_qubits = math.ceil(len(x) / 2)\n",
    "    param_index = 0\n",
    "\n",
    "    for _ in range(num_layers):\n",
    "        for i in range(len(x)):\n",
    "        # for i in range(x.shape[-1]):\n",
    "            qubit = i // 2\n",
    "            qml.RY(params[param_index], wires=qubit)\n",
    "            qml.RZ(params[param_index+1]*x[i], wires = qubit, id = f'x{i}') # Re-uploading data here\n",
    "            # qml.RZ(x[i], wires=qubit)  # Re-uploading data here\n",
    "            qml.RZ(params[param_index + 2], wires=qubit)\n",
    "            qml.RY(params[param_index + 3], wires=qubit)\n",
    "            qml.RZ(params[param_index + 4], wires=qubit)\n",
    "            param_index += 5\n",
    "        \n",
    "        if num_qubits > 1:\n",
    "            for q in range(0, num_qubits - 1, 1):\n",
    "                qml.CZ(wires=[q, q + 1])\n",
    "            if num_qubits > 2:\n",
    "                qml.CZ(wires=[num_qubits - 1, 0])\n",
    "    \n",
    "    for i in range(num_qubits):\n",
    "        qml.RY(phis[i], wires=i)\n",
    "\n",
    "    obs = qml.PauliZ(0)\n",
    "    for i in range(num_qubits-1):\n",
    "         obs = obs @ qml.PauliZ(i+1)\n",
    "    \n",
    "    return qml.expval(obs)\n",
    "\n",
    "def batch_ansatz(params, phis, xdata, num_layers):\n",
    "    # Ensure that `params` is a flat list for single_data_point_ansatz\n",
    "    flat_params = params.flatten()\n",
    "    \n",
    "    # Calculate the expectation for each data point and take the mean\n",
    "    expectations = [single_data_point_ansatz(flat_params, phis, x, num_layers) for x in xdata]\n",
    "    # return np.mean(expectations)\n",
    "    return expectations"
   ]
  },
  {
   "cell_type": "code",
   "execution_count": 6,
   "metadata": {},
   "outputs": [
    {
     "name": "stdout",
     "output_type": "stream",
     "text": [
      "[0.64664235 0.39727659 0.03008858 0.42005655 0.84248538 0.94852055\n",
      " 0.68273613 0.07571792 0.52649497 0.48852272 0.42942317 0.8717191\n",
      " 0.11841888 0.87751983 0.33233902 0.48961406 0.79461125 0.23615176\n",
      " 0.726518   0.29294174]\n"
     ]
    },
    {
     "data": {
      "image/png": "[encoded data removed]",
      "text/plain": [
       "<Figure size 2400x200 with 1 Axes>"
      ]
     },
     "metadata": {},
     "output_type": "display_data"
    }
   ],
   "source": [
    "xdim = 2\n",
    "num_qubits = math.ceil(xdim / 2)\n",
    "num_layers = 2\n",
    "\n",
    "N = 300\n",
    "xdata = Xdata[:N] #np.random.uniform(size = [100,xdim], requires_grad=False)\n",
    "target = Ydata[:N]\n",
    "\n",
    "xdata_val = Xdata[N:N+50]\n",
    "target_val = Ydata[N:N+50]\n",
    "\n",
    "thetas = np.random.uniform(size = xdim*num_layers*5,requires_grad = True)\n",
    "phis = np.random.uniform(size=(num_qubits,), requires_grad =True)\n",
    "\n",
    "print(thetas)\n",
    "\n",
    "params = 0\n",
    "params += thetas\n",
    "param_index = 1\n",
    "for _ in range(num_layers):\n",
    "    for j in range(xdim):\n",
    "        params[param_index] = thetas[param_index] * xdata[0][j]\n",
    "        param_index += 5\n",
    "\n",
    "fig, ax = qml.draw_mpl(single_data_point_ansatz)(params, phis, xdata[0], num_layers)\n",
    "plt.show()"
   ]
  },
  {
   "cell_type": "markdown",
   "metadata": {
    "tags": []
   },
   "source": [
    "### Loss function"
   ]
  },
  {
   "cell_type": "code",
   "execution_count": 7,
   "metadata": {},
   "outputs": [],
   "source": [
    "from scipy.optimize import minimize\n",
    "from copy import deepcopy"
   ]
  },
  {
   "cell_type": "code",
   "execution_count": 8,
   "metadata": {},
   "outputs": [],
   "source": [
    "def cost_function(params, phis, xdata, target, num_layers, normalize=True):\n",
    "    # Generate predictions using the provided ansatz\n",
    "    predictions = batch_ansatz(params, phis, xdata, num_layers)\n",
    "    \n",
    "    # Normalize target values if requested\n",
    "    if normalize:\n",
    "        norm = np.abs(target) + 1e-7  # Adding a small value to avoid division by zero\n",
    "    else:\n",
    "        norm = 1.0\n",
    "    \n",
    "    # Calculate normalized MSE loss\n",
    "    loss = np.mean(((predictions - target) ** 2) / norm)\n",
    "    return loss"
   ]
  },
  {
   "cell_type": "code",
   "execution_count": 9,
   "metadata": {},
   "outputs": [],
   "source": [
    "def parameter_shift_term(qnode, params, phis, index, x, num_layers, is_phi=False):\n",
    "    # 파라미터 시프트의 크기\n",
    "    shift = np.pi / 2\n",
    "\n",
    "    if not is_phi:\n",
    "        # 파라미터 복사 및 시프트\n",
    "        shifted_params = deepcopy(params)\n",
    "        # 전진 시프트\n",
    "        shifted_params[index] += shift\n",
    "        forward = qnode(shifted_params, phis, x, num_layers)\n",
    "        # 후진 시프트\n",
    "        shifted_params[index] -= 2 * shift\n",
    "        backward = qnode(shifted_params, phis, x, num_layers)\n",
    "    else:\n",
    "        # phis에 대한 시프트\n",
    "        shifted_phis = deepcopy(phis)\n",
    "        # 전진 시프트\n",
    "        shifted_phis[index] += shift\n",
    "        forward = qnode(params, shifted_phis, x, num_layers)\n",
    "        # 후진 시프트\n",
    "        shifted_phis[index] -= 2 * shift\n",
    "        backward = qnode(params, shifted_phis, x, num_layers)\n",
    "\n",
    "    # 그라디언트 계산\n",
    "    gradient = (forward - backward) / (2 * np.sin(shift))\n",
    "    return gradient\n",
    "\n",
    "def parameter_shift_grad(qnode, params, phis, x, num_layers):\n",
    "    gradients_params = np.zeros_like(params)\n",
    "    gradients_phis = np.zeros_like(phis)\n",
    "    \n",
    "    # params에 대한 그라디언트 계산\n",
    "    for i in range(len(params)):\n",
    "        gradients_params[i] = parameter_shift_term(qnode, params, phis, i, x, num_layers)\n",
    "    \n",
    "    # phis에 대한 그라디언트 계산\n",
    "    for i in range(len(phis)):\n",
    "        gradients_phis[i] = parameter_shift_term(qnode, params, phis, i, x, num_layers, is_phi=True)\n",
    "        \n",
    "    return gradients_params, gradients_phis"
   ]
  },
  {
   "cell_type": "code",
   "execution_count": 10,
   "metadata": {},
   "outputs": [],
   "source": [
    "def optimize_epoch(params, phis, xdata, target, num_layers, maxiter=100):\n",
    "    combined_params = np.concatenate([params, phis], requires_grad=True)\n",
    "\n",
    "    def objective(combined_params):\n",
    "        # 분리\n",
    "        num_params = len(params)\n",
    "        params_ = combined_params[:num_params]\n",
    "        phis_ = combined_params[num_params:]\n",
    "        loss = cost_function(params_, phis_, xdata, target, num_layers)\n",
    "        return loss\n",
    "\n",
    "    def gradient(combined_params):\n",
    "        # 결합된 파라미터를 분리합니다.\n",
    "        num_params = len(params)\n",
    "        params_ = combined_params[:num_params].reshape(params.shape)\n",
    "        phis_ = combined_params[num_params:].reshape(phis.shape)\n",
    "\n",
    "        # xdata의 각 데이터 포인트에 대해 그라디언트를 계산하고, 평균을 구합니다.\n",
    "        grads_params_total = np.zeros_like(params_)\n",
    "        grads_phis_total = np.zeros_like(phis_)\n",
    "\n",
    "        for x in xdata:\n",
    "            grads_params, grads_phis = parameter_shift_grad(single_data_point_ansatz, params_, phis_, x, num_layers)\n",
    "            grads_params_total += grads_params\n",
    "            grads_phis_total += grads_phis\n",
    "\n",
    "        # 평균 그라디언트를 계산합니다.\n",
    "        grads_params_mean = grads_params_total / len(xdata)\n",
    "        grads_phis_mean = grads_phis_total / len(xdata)\n",
    "\n",
    "        # 결합된 평균 그라디언트를 반환합니다.\n",
    "        combined_grads = np.concatenate([grads_params_mean, grads_phis_mean])\n",
    "        return combined_grads\n",
    "\n",
    "\n",
    "\n",
    "    # 최적화 실행\n",
    "    result = minimize(objective, combined_params, method='L-BFGS-B', # jac=gradient, #(auto-grad)\n",
    "                      options={'maxiter': maxiter, 'gtol': 1e-12, 'ftol': 1e-18})\n",
    "\n",
    "    # 분리 및 재구성\n",
    "    optimized_params = result.x[:len(params)]\n",
    "    optimized_phis = result.x[len(params):]\n",
    "    \n",
    "    return optimized_params, optimized_phis, result.fun\n",
    "\n",
    "# 검증 손실을 계산하기 위한 함수\n",
    "def validate(params, phis, xdata_val, target_val, num_layers):\n",
    "    loss = cost_function(params, phis, xdata_val, target_val, num_layers)\n",
    "    return loss"
   ]
  },
  {
   "cell_type": "code",
   "execution_count": 11,
   "metadata": {
    "tags": []
   },
   "outputs": [
    {
     "name": "stdout",
     "output_type": "stream",
     "text": [
      "Epoch 1: Training Loss = 0.8667141524755891, Validation Loss = 1.1669755821873127\n",
      "Epoch 2: Training Loss = 0.5125960732605146, Validation Loss = 0.6441610503952984\n",
      "Epoch 3: Training Loss = 0.468660996168306, Validation Loss = 0.4532058283851091\n",
      "Epoch 4: Training Loss = 0.463291384695907, Validation Loss = 0.7077449350149371\n",
      "Epoch 5: Training Loss = 0.3943900403018132, Validation Loss = 0.4398358089953343\n",
      "Epoch 6: Training Loss = 0.28973995567649, Validation Loss = 0.5203279757364035\n",
      "Epoch 7: Training Loss = 0.248741215413332, Validation Loss = 0.32324863282686833\n",
      "Epoch 8: Training Loss = 0.2084602437842798, Validation Loss = 0.32801453438619516\n",
      "Epoch 9: Training Loss = 0.18843440185921212, Validation Loss = 0.2206351253451016\n",
      "Epoch 10: Training Loss = 0.172721057403515, Validation Loss = 0.24650497757920004\n",
      "Epoch 11: Training Loss = 0.16268322297878227, Validation Loss = 0.18060982548236026\n",
      "Epoch 12: Training Loss = 0.154345967099969, Validation Loss = 0.21450856124040446\n",
      "Epoch 13: Training Loss = 0.14743241087880776, Validation Loss = 0.1604263886309531\n",
      "Epoch 14: Training Loss = 0.140924453677237, Validation Loss = 0.19715276559491737\n",
      "Epoch 15: Training Loss = 0.13404676623772252, Validation Loss = 0.1466668604483612\n",
      "Epoch 16: Training Loss = 0.1275585150116296, Validation Loss = 0.17689198626898545\n",
      "Epoch 17: Training Loss = 0.1214993849238132, Validation Loss = 0.13199033862931822\n",
      "Epoch 18: Training Loss = 0.11577165612175842, Validation Loss = 0.16025793401739577\n",
      "Epoch 19: Training Loss = 0.11027394762216898, Validation Loss = 0.11969400102422176\n",
      "Epoch 20: Training Loss = 0.10507970481324842, Validation Loss = 0.14514428853707004\n",
      "Epoch 21: Training Loss = 0.1001630042561869, Validation Loss = 0.10866146135539392\n",
      "Epoch 22: Training Loss = 0.09551564672393596, Validation Loss = 0.13181222720337085\n",
      "Epoch 23: Training Loss = 0.09112427366183473, Validation Loss = 0.09894678683424368\n",
      "Epoch 24: Training Loss = 0.08697097202169954, Validation Loss = 0.12000076207604962\n",
      "Epoch 25: Training Loss = 0.08305124197834832, Validation Loss = 0.09034742551116487\n",
      "Epoch 26: Training Loss = 0.07934116992159768, Validation Loss = 0.10952276839693306\n",
      "Epoch 27: Training Loss = 0.07583736124973423, Validation Loss = 0.08271323807931401\n",
      "Epoch 28: Training Loss = 0.07251830505635612, Validation Loss = 0.10017623925695673\n",
      "Epoch 29: Training Loss = 0.06938041688948243, Validation Loss = 0.07589702794681047\n",
      "Epoch 30: Training Loss = 0.06640557346814031, Validation Loss = 0.09179447070252643\n",
      "Epoch 31: Training Loss = 0.06358959811215567, Validation Loss = 0.06978512425507027\n",
      "Epoch 32: Training Loss = 0.060916864279853725, Validation Loss = 0.08423331849691972\n",
      "Epoch 33: Training Loss = 0.05838540137362918, Validation Loss = 0.06426780811100807\n",
      "Epoch 34: Training Loss = 0.05598009739884232, Validation Loss = 0.07739534467568161\n",
      "Epoch 35: Training Loss = 0.053699700062285964, Validation Loss = 0.05927523646154761\n",
      "Epoch 36: Training Loss = 0.05153079399712832, Validation Loss = 0.07118751597071364\n",
      "Epoch 37: Training Loss = 0.049473105688145155, Validation Loss = 0.05474237360060259\n",
      "Epoch 38: Training Loss = 0.047514186971480264, Validation Loss = 0.06554524536313941\n",
      "Epoch 39: Training Loss = 0.04565415149997246, Validation Loss = 0.0506236609759258\n",
      "Epoch 40: Training Loss = 0.043881834905140985, Validation Loss = 0.060409206436736806\n",
      "Epoch 41: Training Loss = 0.04219790447147973, Validation Loss = 0.04687743648182696\n",
      "Epoch 42: Training Loss = 0.04059204018808224, Validation Loss = 0.055735922265515096\n",
      "Epoch 43: Training Loss = 0.03906511880412661, Validation Loss = 0.04347304017410575\n",
      "Epoch 44: Training Loss = 0.0376078240266703, Validation Loss = 0.051484000200469324\n",
      "Epoch 45: Training Loss = 0.036221364084463185, Validation Loss = 0.04038126996241299\n",
      "Epoch 46: Training Loss = 0.034897122697303606, Validation Loss = 0.04762173021453581\n",
      "Epoch 47: Training Loss = 0.033636382864563136, Validation Loss = 0.037579631292636945\n",
      "Epoch 48: Training Loss = 0.0324313538899305, Validation Loss = 0.04411730310371337\n",
      "Epoch 49: Training Loss = 0.031283507079164836, Validation Loss = 0.03504547137049449\n",
      "Epoch 50: Training Loss = 0.030185633709397208, Validation Loss = 0.040945583106569296\n",
      "Epoch 51: Training Loss = 0.029139179034596233, Validation Loss = 0.03276071234013163\n",
      "Epoch 52: Training Loss = 0.028137635988744664, Validation Loss = 0.03808014704275423\n",
      "Epoch 53: Training Loss = 0.027182547040340725, Validation Loss = 0.03070627996097603\n",
      "Epoch 54: Training Loss = 0.026267887414919984, Validation Loss = 0.03549985004237354\n",
      "Epoch 55: Training Loss = 0.025395104025906817, Validation Loss = 0.02886668316437192\n",
      "Epoch 56: Training Loss = 0.02455877888821364, Validation Loss = 0.03318166619176253\n",
      "Epoch 57: Training Loss = 0.023760403735078952, Validation Loss = 0.027225066862445496\n",
      "Epoch 58: Training Loss = 0.022994954843446245, Validation Loss = 0.031107251443894753\n",
      "Epoch 59: Training Loss = 0.022263784552469263, Validation Loss = 0.025767730264968064\n",
      "Epoch 60: Training Loss = 0.02156239895853038, Validation Loss = 0.02925609521761639\n",
      "Epoch 61: Training Loss = 0.020892170096725126, Validation Loss = 0.024479487647992258\n",
      "Epoch 62: Training Loss = 0.02024891947947672, Validation Loss = 0.027612127986816143\n",
      "Epoch 63: Training Loss = 0.01963385506094841, Validation Loss = 0.023348117748092655\n",
      "Epoch 64: Training Loss = 0.019043263702701218, Validation Loss = 0.026156989692950355\n",
      "Epoch 65: Training Loss = 0.018478365549816078, Validation Loss = 0.02235992246878593\n",
      "Epoch 66: Training Loss = 0.017935693077878304, Validation Loss = 0.02487663079744121\n",
      "Epoch 67: Training Loss = 0.017416291038049543, Validation Loss = 0.021504039155016894\n",
      "Epoch 68: Training Loss = 0.016917102210134115, Validation Loss = 0.02375469059160415\n",
      "Epoch 69: Training Loss = 0.016439186188965067, Validation Loss = 0.02076821168147491\n",
      "Epoch 70: Training Loss = 0.01597967084993212, Validation Loss = 0.022778969153298932\n",
      "Epoch 71: Training Loss = 0.015539438336289369, Validation Loss = 0.02014286390065642\n",
      "Epoch 72: Training Loss = 0.01511597910153407, Validation Loss = 0.021935025501979476\n",
      "Epoch 73: Training Loss = 0.01471019702012045, Validation Loss = 0.01961716730097185\n",
      "Epoch 74: Training Loss = 0.014319716986056103, Validation Loss = 0.021212340864882894\n",
      "Epoch 75: Training Loss = 0.013945270414105728, Validation Loss = 0.01918275046105279\n",
      "Epoch 76: Training Loss = 0.013584801945677173, Validation Loss = 0.02059832509090947\n",
      "Epoch 77: Training Loss = 0.013239071827819164, Validation Loss = 0.018830184828316113\n",
      "Epoch 78: Training Loss = 0.012906118735289525, Validation Loss = 0.02008395472424469\n",
      "Epoch 79: Training Loss = 0.012586540991393766, Validation Loss = 0.018552200836043753\n",
      "Epoch 80: Training Loss = 0.012278657385609152, Validation Loss = 0.01965840357259376\n",
      "Epoch 81: Training Loss = 0.011983099771979573, Validation Loss = 0.018340712419377177\n",
      "Epoch 82: Training Loss = 0.011698250757242333, Validation Loss = 0.019313950333243842\n",
      "Epoch 83: Training Loss = 0.011424595098713632, Validation Loss = 0.018189437693005992\n",
      "Epoch 84: Training Loss = 0.011160757943935385, Validation Loss = 0.019041418085223277\n",
      "Epoch 85: Training Loss = 0.010907258766425816, Validation Loss = 0.018091543007142982\n",
      "Epoch 86: Training Loss = 0.010662765730524682, Validation Loss = 0.01883420199905475\n",
      "Epoch 87: Training Loss = 0.010427669250170047, Validation Loss = 0.0180416201459151\n",
      "Epoch 88: Training Loss = 0.010200843994744255, Validation Loss = 0.018684632038786012\n",
      "Epoch 89: Training Loss = 0.009982712607533358, Validation Loss = 0.01803397120908267\n",
      "Epoch 90: Training Loss = 0.009772180057823059, Validation Loss = 0.0185870565081875\n",
      "Epoch 91: Training Loss = 0.00956955991043511, Validation Loss = 0.01806395781023375\n",
      "Epoch 92: Training Loss = 0.009373929256020631, Validation Loss = 0.018535146219052348\n",
      "Epoch 93: Training Loss = 0.00918562857108356, Validation Loss = 0.018126882663190815\n",
      "Epoch 94: Training Loss = 0.009003758781572363, Validation Loss = 0.018524068494535105\n",
      "Epoch 95: Training Loss = 0.008828571645336333, Validation Loss = 0.01821878792762182\n",
      "Epoch 96: Training Loss = 0.00865930819926194, Validation Loss = 0.018548655011170322\n",
      "Epoch 97: Training Loss = 0.008496240203179631, Validation Loss = 0.01833583407190324\n",
      "Epoch 98: Training Loss = 0.008338630231160665, Validation Loss = 0.018604786239032712\n",
      "Epoch 99: Training Loss = 0.008186680647558045, Validation Loss = 0.018474667923074384\n",
      "Epoch 100: Training Loss = 0.008039765360644617, Validation Loss = 0.01868827298479186\n",
      "Epoch 101: Training Loss = 0.007898099589886633, Validation Loss = 0.018632168370765635\n",
      "Epoch 102: Training Loss = 0.00776107864894709, Validation Loss = 0.01879562511645463\n",
      "Epoch 103: Training Loss = 0.007628865513026047, Validation Loss = 0.018805520549701013\n",
      "Epoch 104: Training Loss = 0.007500942034008302, Validation Loss = 0.01892346088575714\n",
      "Epoch 105: Training Loss = 0.007377477663358761, Validation Loss = 0.018992194422768248\n",
      "Epoch 106: Training Loss = 0.007257976195552862, Validation Loss = 0.019068849509301194\n",
      "Epoch 107: Training Loss = 0.007142569077805049, Validation Loss = 0.01918985248604244\n",
      "Epoch 108: Training Loss = 0.007030826192128156, Validation Loss = 0.019229064761484237\n",
      "Epoch 109: Training Loss = 0.006922880646385452, Validation Loss = 0.019396446578225545\n",
      "Epoch 110: Training Loss = 0.006818324379308807, Validation Loss = 0.019401671328364768\n",
      "Epoch 111: Training Loss = 0.006717263593931778, Validation Loss = 0.0196100575393171\n",
      "Epoch 112: Training Loss = 0.006619340183154585, Validation Loss = 0.01958447166175813\n",
      "Epoch 113: Training Loss = 0.006524658810132923, Validation Loss = 0.019829029636867692\n",
      "Epoch 114: Training Loss = 0.006432882783869845, Validation Loss = 0.019775464713531685\n",
      "Epoch 115: Training Loss = 0.0063440981067276235, Validation Loss = 0.0200518053671159\n",
      "Epoch 116: Training Loss = 0.0062580057410375365, Validation Loss = 0.01997287943515919\n",
      "Epoch 117: Training Loss = 0.006174688407207407, Validation Loss = 0.020277049763369397\n",
      "Epoch 118: Training Loss = 0.006093867019051708, Validation Loss = 0.020175089571227843\n",
      "Epoch 119: Training Loss = 0.006015611500333672, Validation Loss = 0.020503512858175116\n",
      "Epoch 120: Training Loss = 0.005939671283523427, Validation Loss = 0.02038067063488463\n",
      "Epoch 121: Training Loss = 0.0058661124157056346, Validation Loss = 0.02073012419258034\n",
      "Epoch 122: Training Loss = 0.005794702216130025, Validation Loss = 0.020588314867606747\n",
      "Epoch 123: Training Loss = 0.005725497964231664, Validation Loss = 0.02095589179020743\n",
      "Epoch 124: Training Loss = 0.00565828884066656, Validation Loss = 0.0207968816812681\n",
      "Epoch 125: Training Loss = 0.00559312834145084, Validation Loss = 0.021179964521923483\n",
      "Epoch 126: Training Loss = 0.005529821215926022, Validation Loss = 0.021005330518929513\n",
      "Epoch 127: Training Loss = 0.005468414925304737, Validation Loss = 0.021401564694309906\n",
      "Epoch 128: Training Loss = 0.005408731187588148, Validation Loss = 0.0212127551718556\n",
      "Epoch 129: Training Loss = 0.005350814172597204, Validation Loss = 0.02162002400014072\n",
      "Epoch 130: Training Loss = 0.005294498820083341, Validation Loss = 0.021418337067557736\n",
      "Epoch 131: Training Loss = 0.005239825154868765, Validation Loss = 0.021834741396296264\n",
      "Epoch 132: Training Loss = 0.005186641442732392, Validation Loss = 0.02162136426062008\n",
      "Epoch 133: Training Loss = 0.005134985040344999, Validation Loss = 0.022045201057538308\n",
      "Epoch 134: Training Loss = 0.005084715269267546, Validation Loss = 0.02182120162014429\n",
      "Epoch 135: Training Loss = 0.005035866618573303, Validation Loss = 0.022250947226182916\n",
      "Epoch 136: Training Loss = 0.0049883090008459915, Validation Loss = 0.022017298703654622\n",
      "Epoch 137: Training Loss = 0.004942074890797544, Validation Loss = 0.02245159109571199\n",
      "Epoch 138: Training Loss = 0.004897043313145582, Validation Loss = 0.022209171247041158\n",
      "Epoch 139: Training Loss = 0.004853244783568905, Validation Loss = 0.02264679607153345\n",
      "Epoch 140: Training Loss = 0.004810566824823879, Validation Loss = 0.022396402967529417\n",
      "Epoch 141: Training Loss = 0.004769038481970808, Validation Loss = 0.02283627899553785\n",
      "Epoch 142: Training Loss = 0.004728554754423245, Validation Loss = 0.02257863394631761\n",
      "Epoch 143: Training Loss = 0.004689143387590838, Validation Loss = 0.023019801226433517\n",
      "Epoch 144: Training Loss = 0.004650706224457708, Validation Loss = 0.022755559002267584\n",
      "Epoch 145: Training Loss = 0.004613270016926978, Validation Loss = 0.023197167022268247\n",
      "Epoch 146: Training Loss = 0.004576742707513628, Validation Loss = 0.022926920185897773\n",
      "Epoch 147: Training Loss = 0.004541150189365949, Validation Loss = 0.023368217887151935\n",
      "Epoch 148: Training Loss = 0.004506405976807567, Validation Loss = 0.023092504520604344\n",
      "Epoch 149: Training Loss = 0.004472535329744557, Validation Loss = 0.023532830551414113\n",
      "Epoch 150: Training Loss = 0.004439456746529301, Validation Loss = 0.02325213812259499\n",
      "Epoch 151: Training Loss = 0.004407194958528895, Validation Loss = 0.023690912511156646\n",
      "Epoch 152: Training Loss = 0.004375673011498136, Validation Loss = 0.02340568365074931\n",
      "Epoch 153: Training Loss = 0.004344915248937681, Validation Loss = 0.023842399751634557\n",
      "Epoch 154: Training Loss = 0.004314848816906968, Validation Loss = 0.023553036179697607\n",
      "Epoch 155: Training Loss = 0.004285497752153191, Validation Loss = 0.023987253684067372\n",
      "Epoch 156: Training Loss = 0.004256792946095529, Validation Loss = 0.023694120602522503\n",
      "Epoch 157: Training Loss = 0.004228758189585074, Validation Loss = 0.024125459020381605\n",
      "Epoch 158: Training Loss = 0.004201327794902863, Validation Loss = 0.023828888733132162\n",
      "Epoch 159: Training Loss = 0.004174525384476954, Validation Loss = 0.024257021348283433\n",
      "Epoch 160: Training Loss = 0.004148288380290542, Validation Loss = 0.02395731622547421\n",
      "Epoch 161: Training Loss = 0.004122640260344814, Validation Loss = 0.024381964892309198\n",
      "Epoch 162: Training Loss = 0.004097521322021201, Validation Loss = 0.02407940067956319\n",
      "Epoch 163: Training Loss = 0.004072954911376107, Validation Loss = 0.024500330809906375\n",
      "Epoch 164: Training Loss = 0.004048883978767391, Validation Loss = 0.024195159471521142\n",
      "Epoch 165: Training Loss = 0.004025331762775541, Validation Loss = 0.024612175536613417\n",
      "Epoch 166: Training Loss = 0.004002243665342968, Validation Loss = 0.02430462718173728\n",
      "Epoch 167: Training Loss = 0.003979642808335286, Validation Loss = 0.024717568745205146\n",
      "Epoch 168: Training Loss = 0.003957476884823929, Validation Loss = 0.02440785426810095\n",
      "Epoch 169: Training Loss = 0.003935768875253799, Validation Loss = 0.024816592291005874\n",
      "Epoch 170: Training Loss = 0.0039144686325330354, Validation Loss = 0.02450490530868289\n",
      "Epoch 171: Training Loss = 0.003893598984994472, Validation Loss = 0.024909338644598343\n",
      "Epoch 172: Training Loss = 0.003873111809402489, Validation Loss = 0.024595856887015967\n",
      "Epoch 173: Training Loss = 0.0038530297405331435, Validation Loss = 0.024995909423636272\n",
      "Epoch 174: Training Loss = 0.0038333065881776917, Validation Loss = 0.024680796895840504\n",
      "Epoch 175: Training Loss = 0.003813964771466812, Validation Loss = 0.025076414598905507\n",
      "Epoch 176: Training Loss = 0.003794959933489682, Validation Loss = 0.024759822379340043\n",
      "Epoch 177: Training Loss = 0.0037763142263690765, Validation Loss = 0.025150970935067987\n",
      "Epoch 178: Training Loss = 0.003757985060111586, Validation Loss = 0.024833039029333016\n",
      "Epoch 179: Training Loss = 0.0037399942892008876, Validation Loss = 0.02521970140363462\n",
      "Epoch 180: Training Loss = 0.0037223010199511236, Validation Loss = 0.024900559194113762\n",
      "Epoch 181: Training Loss = 0.003704926756170878, Validation Loss = 0.025282733724115766\n",
      "Epoch 182: Training Loss = 0.0036878322492701777, Validation Loss = 0.0249625017862349\n",
      "Epoch 183: Training Loss = 0.0036710386249623416, Validation Loss = 0.025340200121015514\n",
      "Epoch 184: Training Loss = 0.0036545082245632503, Validation Loss = 0.025018990284957424\n",
      "Epoch 185: Training Loss = 0.0036382617403781527, Validation Loss = 0.025392235775849245\n",
      "Epoch 186: Training Loss = 0.0036222630665970743, Validation Loss = 0.025070152425252932\n",
      "Epoch 187: Training Loss = 0.003606532430311392, Validation Loss = 0.02543897863213216\n",
      "Epoch 188: Training Loss = 0.00359103523922198, Validation Loss = 0.025116119206768844\n",
      "Epoch 189: Training Loss = 0.003575791205277952, Validation Loss = 0.02548056842756999\n",
      "Epoch 190: Training Loss = 0.0035607672175613655, Validation Loss = 0.02515702434557781\n",
      "Epoch 191: Training Loss = 0.0035459824643593704, Validation Loss = 0.0255171462177886\n",
      "Epoch 192: Training Loss = 0.0035314052663559135, Validation Loss = 0.025193002678130773\n",
      "Epoch 193: Training Loss = 0.0035170542279630485, Validation Loss = 0.025548853420516483\n",
      "Epoch 194: Training Loss = 0.0035028990908447873, Validation Loss = 0.025224191057149525\n",
      "Epoch 195: Training Loss = 0.003488957877356198, Validation Loss = 0.025575831970162395\n",
      "Epoch 196: Training Loss = 0.0034752016955586955, Validation Loss = 0.02525072601213671\n",
      "Epoch 197: Training Loss = 0.0034616479387892902, Validation Loss = 0.025598223038787574\n",
      "Epoch 198: Training Loss = 0.003448269071390227, Validation Loss = 0.025272744951372245\n",
      "Epoch 199: Training Loss = 0.0034350818588941134, Validation Loss = 0.025616167396176007\n",
      "Epoch 200: Training Loss = 0.0034220600691906335, Validation Loss = 0.025290384082317662\n",
      "Epoch 201: Training Loss = 0.00340921981135748, Validation Loss = 0.02562980423690859\n",
      "Epoch 202: Training Loss = 0.003396536142100078, Validation Loss = 0.025303779386850165\n",
      "Epoch 203: Training Loss = 0.003384024510436864, Validation Loss = 0.025639271622168284\n",
      "Epoch 204: Training Loss = 0.0033716612191682952, Validation Loss = 0.025313065237178044\n",
      "Epoch 205: Training Loss = 0.003359461043169986, Validation Loss = 0.025644705602963936\n",
      "Epoch 206: Training Loss = 0.0033474015031865296, Validation Loss = 0.025318374867494952\n",
      "Epoch 207: Training Loss = 0.003335496708861685, Validation Loss = 0.025646240316386574\n",
      "Epoch 208: Training Loss = 0.003323725353091254, Validation Loss = 0.025319839267926657\n",
      "Epoch 209: Training Loss = 0.003312100870967345, Validation Loss = 0.025644007548639918\n",
      "Epoch 210: Training Loss = 0.003300603102985139, Validation Loss = 0.02531758781798283\n",
      "Epoch 211: Training Loss = 0.0032892448207050493, Validation Loss = 0.0256381367481945\n",
      "Epoch 212: Training Loss = 0.003278006967048782, Validation Loss = 0.025311747326169996\n",
      "Epoch 213: Training Loss = 0.003266901648924916, Validation Loss = 0.02562875463432941\n",
      "Epoch 214: Training Loss = 0.003255910882963117, Validation Loss = 0.02530244255083231\n",
      "Epoch 215: Training Loss = 0.003245046127145719, Validation Loss = 0.025615985505412706\n",
      "Epoch 216: Training Loss = 0.0032342904254498896, Validation Loss = 0.025289795591599523\n",
      "Epoch 217: Training Loss = 0.003223654600674206, Validation Loss = 0.02559995064908009\n",
      "Epoch 218: Training Loss = 0.003213122685041264, Validation Loss = 0.025273925759871207\n",
      "Epoch 219: Training Loss = 0.0032027048780096166, Validation Loss = 0.025580768534739024\n",
      "Epoch 220: Training Loss = 0.003192386167194433, Validation Loss = 0.025254949944607787\n",
      "Epoch 221: Training Loss = 0.0031821761411114265, Validation Loss = 0.025558554877621174\n",
      "Epoch 222: Training Loss = 0.003172060704627473, Validation Loss = 0.025232982104594414\n",
      "Epoch 223: Training Loss = 0.003162048850918083, Validation Loss = 0.02553342229250518\n",
      "Epoch 224: Training Loss = 0.0031521273650545033, Validation Loss = 0.02520813351704978\n",
      "Epoch 225: Training Loss = 0.0031423046684180074, Validation Loss = 0.02550548058663461\n",
      "Epoch 226: Training Loss = 0.0031325683841178153, Validation Loss = 0.025180512349278282\n",
      "Epoch 227: Training Loss = 0.003122926372020882, Validation Loss = 0.025474836499682244\n",
      "Epoch 228: Training Loss = 0.0031133670641744645, Validation Loss = 0.025150224410607283\n",
      "Epoch 229: Training Loss = 0.0031038977884024366, Validation Loss = 0.02544159401694092\n",
      "Epoch 230: Training Loss = 0.0030945077382252984, Validation Loss = 0.02511737213528202\n",
      "Epoch 231: Training Loss = 0.0030852037210588887, Validation Loss = 0.02540585404538633\n",
      "Epoch 232: Training Loss = 0.0030759756673679837, Validation Loss = 0.025082055640025403\n",
      "Epoch 233: Training Loss = 0.0030668298884446842, Validation Loss = 0.025367714803328695\n",
      "Epoch 234: Training Loss = 0.0030577570111029796, Validation Loss = 0.025044371904159587\n",
      "Epoch 235: Training Loss = 0.0030487628668624035, Validation Loss = 0.02532727153497392\n",
      "Epoch 236: Training Loss = 0.0030398387485446004, Validation Loss = 0.02500441534241461\n",
      "Epoch 237: Training Loss = 0.003030990033134613, Validation Loss = 0.025284616769904213\n",
      "Epoch 238: Training Loss = 0.0030222086425054384, Validation Loss = 0.024962277416549116\n",
      "Epoch 239: Training Loss = 0.003013499512078315, Validation Loss = 0.025239840268738368\n",
      "Epoch 240: Training Loss = 0.0030048551666455843, Validation Loss = 0.024918047335011163\n",
      "Epoch 241: Training Loss = 0.002996280130314318, Validation Loss = 0.02519302922848519\n",
      "Epoch 242: Training Loss = 0.0029877674902978285, Validation Loss = 0.024871811120992876\n",
      "Epoch 243: Training Loss = 0.002979321370057134, Validation Loss = 0.025144268071992194\n",
      "Epoch 244: Training Loss = 0.002970935399309637, Validation Loss = 0.02482365282390064\n",
      "Epoch 245: Training Loss = 0.0029626133263758255, Validation Loss = 0.0250936388161257\n",
      "Epoch 246: Training Loss = 0.002954349288374841, Validation Loss = 0.02477365337352349\n",
      "Epoch 247: Training Loss = 0.002946146671337706, Validation Loss = 0.0250412208023523\n",
      "Epoch 248: Training Loss = 0.002938000097370329, Validation Loss = 0.024721891732253205\n",
      "Epoch 249: Training Loss = 0.0029299126129861955, Validation Loss = 0.024987091115477766\n",
      "Epoch 250: Training Loss = 0.0029218792930896785, Validation Loss = 0.024668444224201513\n",
      "Epoch 251: Training Loss = 0.002913902865147058, Validation Loss = 0.024931324392399746\n",
      "Epoch 252: Training Loss = 0.0029059788316793097, Validation Loss = 0.024613384766436312\n",
      "Epoch 253: Training Loss = 0.002898109613825081, Validation Loss = 0.02487399288694606\n",
      "Epoch 254: Training Loss = 0.002890291122125707, Validation Loss = 0.024556785074417765\n",
      "Epoch 255: Training Loss = 0.0028825254852850616, Validation Loss = 0.02481516672459196\n",
      "Epoch 256: Training Loss = 0.0028748089991567616, Validation Loss = 0.02449871471063817\n",
      "Epoch 257: Training Loss = 0.0028671435196257382, Validation Loss = 0.02475491379659686\n",
      "Epoch 258: Training Loss = 0.0028595257015339324, Validation Loss = 0.024439240984183822\n",
      "Epoch 259: Training Loss = 0.002851957146288819, Validation Loss = 0.024693299882401164\n",
      "Epoch 260: Training Loss = 0.002844434846252427, Validation Loss = 0.024378429018546935\n",
      "Epoch 261: Training Loss = 0.0028369601585074276, Validation Loss = 0.024630388643723387\n",
      "Epoch 262: Training Loss = 0.0028295303962342245, Validation Loss = 0.02431634208132787\n",
      "Epoch 263: Training Loss = 0.0028221466899501666, Validation Loss = 0.024566241824433514\n",
      "Epoch 264: Training Loss = 0.002814806649733618, Validation Loss = 0.024253041241481442\n",
      "Epoch 265: Training Loss = 0.0028075111937670896, Validation Loss = 0.02450091913212782\n",
      "Epoch 266: Training Loss = 0.0028002582133864746, Validation Loss = 0.024188585673922194\n",
      "Epoch 267: Training Loss = 0.0027930484228117667, Validation Loss = 0.02443447842363539\n",
      "Epoch 268: Training Loss = 0.0027858799791140574, Validation Loss = 0.024123032831015467\n",
      "Epoch 269: Training Loss = 0.0027787534110235734, Validation Loss = 0.02436697521617935\n",
      "Epoch 270: Training Loss = 0.0027716670916649337, Validation Loss = 0.02405643892262109\n",
      "Epoch 271: Training Loss = 0.0027646214499409258, Validation Loss = 0.024298464547324032\n",
      "Epoch 272: Training Loss = 0.002757615008793574, Validation Loss = 0.023988856401623137\n",
      "Epoch 273: Training Loss = 0.0027506480878198986, Validation Loss = 0.024228998421107234\n",
      "Epoch 274: Training Loss = 0.0027437193724600775, Validation Loss = 0.023920337940282508\n",
      "Epoch 275: Training Loss = 0.002736829097866672, Validation Loss = 0.02415862793823686\n",
      "Epoch 276: Training Loss = 0.0027299760855324334, Validation Loss = 0.023850933341113177\n",
      "Epoch 277: Training Loss = 0.0027231604761942235, Validation Loss = 0.024087402111672915\n",
      "Epoch 278: Training Loss = 0.0027163812305383518, Validation Loss = 0.023780691810403126\n",
      "Epoch 279: Training Loss = 0.002709638420256271, Validation Loss = 0.024015368744621037\n",
      "Epoch 280: Training Loss = 0.0027029311193119895, Validation Loss = 0.023709659845195238\n",
      "Epoch 281: Training Loss = 0.002696259320672975, Validation Loss = 0.023942573629601425\n",
      "Epoch 282: Training Loss = 0.00268962221630851, Validation Loss = 0.023637883561608716\n",
      "Epoch 283: Training Loss = 0.002683019745724676, Validation Loss = 0.023869061583738138\n",
      "Epoch 284: Training Loss = 0.0026764511946128443, Validation Loss = 0.023565406461443342\n",
      "Epoch 285: Training Loss = 0.002669916436327832, Validation Loss = 0.023794875485192567\n",
      "Epoch 286: Training Loss = 0.0026634148590465655, Validation Loss = 0.023492271618749686\n",
      "Epoch 287: Training Loss = 0.0026569462880825, Validation Loss = 0.023720057268690767\n",
      "Epoch 288: Training Loss = 0.0026505101935459896, Validation Loss = 0.023418519906303364\n",
      "Epoch 289: Training Loss = 0.002644106348380888, Validation Loss = 0.023644647082897156\n",
      "Epoch 290: Training Loss = 0.002637734306227771, Validation Loss = 0.023344191422755456\n",
      "Epoch 291: Training Loss = 0.002631393802566171, Validation Loss = 0.02356868407603515\n",
      "Epoch 292: Training Loss = 0.0026250844589420634, Validation Loss = 0.023269324382544226\n",
      "Epoch 293: Training Loss = 0.002618805970257341, Validation Loss = 0.023492205815211196\n",
      "Epoch 294: Training Loss = 0.002612558024499108, Validation Loss = 0.023193956294634915\n",
      "Epoch 295: Training Loss = 0.0026063402900699927, Validation Loss = 0.023415248959514048\n",
      "Epoch 296: Training Loss = 0.00260015251103492, Validation Loss = 0.023118122811274993\n",
      "Epoch 297: Training Loss = 0.0025939943213338723, Validation Loss = 0.023337848561355474\n",
      "Epoch 298: Training Loss = 0.0025878655231293918, Validation Loss = 0.023041858997378126\n",
      "Epoch 299: Training Loss = 0.002581765730258548, Validation Loss = 0.023260038836017433\n",
      "Epoch 300: Training Loss = 0.002575694787122822, Validation Loss = 0.02296519811467896\n",
      "Final Loss: 0.002575694787122822\n",
      "Optimized Parameters for params: [ 0.43243186  0.78009984  0.21222794  0.09461138  1.03429456  0.8121234\n",
      "  0.22938609 -0.05097806  0.42456465  0.23586469  0.40339453  1.31740786\n",
      " -0.18699005  1.34973078  0.26784946  0.87838803 -0.93126393  0.46054826\n",
      "  1.02728755  0.39950616]\n",
      "Optimized Parameters for phis: [0.77988773]\n"
     ]
    }
   ],
   "source": [
    "# 전체 최적화 과정을 여러 epoch에 걸쳐 실행\n",
    "epochs = 300\n",
    "for epoch in range(epochs):\n",
    "    optimized_params, optimized_phis, loss = optimize_epoch(params, phis, xdata, target, num_layers, maxiter=1)\n",
    "    params, phis = optimized_params, optimized_phis  # 최적화된 파라미터 업데이트\n",
    "    \n",
    "    # 검증 손실 계산 (xdata_val, target_val을 적절히 정의해야 함)\n",
    "    val_loss = validate(params, phis, xdata_val, target_val, num_layers)\n",
    "    \n",
    "    print(f\"Epoch {epoch+1}: Training Loss = {loss}, Validation Loss = {val_loss}\")\n",
    "\n",
    "# 최종 최적화된 파라미터와 손실 출력\n",
    "print(f\"Final Loss: {loss}\")\n",
    "print(\"Optimized Parameters for params:\", params)\n",
    "print(\"Optimized Parameters for phis:\", phis)\n"
   ]
  },
  {
   "cell_type": "code",
   "execution_count": 12,
   "metadata": {},
   "outputs": [
    {
     "name": "stdout",
     "output_type": "stream",
     "text": [
      "Epoch 300: Training Loss = 0.002575694787122822, Validation Loss = 0.02296519811467896\n"
     ]
    }
   ],
   "source": [
    "print(f\"Epoch {epoch+1}: Training Loss = {loss}, Validation Loss = {val_loss}\")"
   ]
  },
  {
   "cell_type": "markdown",
   "metadata": {},
   "source": [
    "### Check the results"
   ]
  },
  {
   "cell_type": "code",
   "execution_count": 13,
   "metadata": {},
   "outputs": [],
   "source": [
    "predictions = batch_ansatz(params, phis, Xdata[400:420], num_layers)"
   ]
  },
  {
   "cell_type": "code",
   "execution_count": 14,
   "metadata": {},
   "outputs": [
    {
     "data": {
      "text/plain": [
       "(array([ 0.68859976,  0.97227901,  0.63050092,  0.78966693,  0.51416276,\n",
       "         0.95545231,  0.9470455 ,  0.72431934,  0.96773803, -0.55161517,\n",
       "         0.20404097,  0.95696629,  0.97480826,  0.72071072,  0.39053937,\n",
       "        -0.41654036,  0.99991996,  0.54218907,  0.8926306 ,  0.87943899]),\n",
       " tensor([ 0.73084305,  0.8598283 ,  0.68484606,  0.79884485,  0.60152874,\n",
       "          0.88546467,  0.88108679,  0.72288382,  0.88665892, -0.11929453,\n",
       "          0.43644583,  0.85443259,  0.88540796,  0.7414296 ,  0.56095549,\n",
       "          0.0112602 ,  0.88777094,  0.6528895 ,  0.84120446,  0.83284605], requires_grad=True))"
      ]
     },
     "execution_count": 14,
     "metadata": {},
     "output_type": "execute_result"
    }
   ],
   "source": [
    "Ydata[400:420], np.array(predictions)"
   ]
  },
  {
   "cell_type": "code",
   "execution_count": null,
   "metadata": {},
   "outputs": [],
   "source": []
  },
  {
   "cell_type": "code",
   "execution_count": 15,
   "metadata": {},
   "outputs": [],
   "source": [
    "predictions = batch_ansatz(params, phis, Xdata[0:20], num_layers)"
   ]
  },
  {
   "cell_type": "code",
   "execution_count": 16,
   "metadata": {},
   "outputs": [
    {
     "data": {
      "text/plain": [
       "(array([-0.13357914, -0.97082334,  0.99255235, -0.98046538, -0.96324292,\n",
       "        -0.817155  ,  0.45767458,  0.95902655,  0.99646787,  0.36033158,\n",
       "         0.4533931 ,  0.6208793 , -0.95646062,  0.61212022, -0.13304606,\n",
       "         0.83947275, -0.61675439, -0.99953003, -0.0376312 , -0.96854291]),\n",
       " tensor([-0.18107638, -0.97150306,  0.97570891, -0.98186463, -0.96443364,\n",
       "         -0.81312678,  0.46166784,  0.98033122,  0.95654709,  0.35576511,\n",
       "          0.46286922,  0.65578388, -0.94233941,  0.64816873, -0.16453943,\n",
       "          0.8925385 , -0.62293529, -0.99200888, -0.06279926, -0.96906553], requires_grad=True))"
      ]
     },
     "execution_count": 16,
     "metadata": {},
     "output_type": "execute_result"
    }
   ],
   "source": [
    "Ydata[0:20], np.array(predictions)"
   ]
  },
  {
   "cell_type": "code",
   "execution_count": null,
   "metadata": {},
   "outputs": [],
   "source": []
  },
  {
   "cell_type": "markdown",
   "metadata": {},
   "source": [
    "### Plot $g(x)$"
   ]
  },
  {
   "cell_type": "code",
   "execution_count": 17,
   "metadata": {},
   "outputs": [
    {
     "data": {
      "image/png": "[encoded data removed]",
      "text/plain": [
       "<Figure size 640x480 with 1 Axes>"
      ]
     },
     "metadata": {},
     "output_type": "display_data"
    },
    {
     "data": {
      "image/png": "[encoded data removed]",
      "text/plain": [
       "<Figure size 640x480 with 1 Axes>"
      ]
     },
     "metadata": {},
     "output_type": "display_data"
    }
   ],
   "source": [
    "import copy\n",
    "\n",
    "xmin = [0.0]\n",
    "xmax = [3.0]\n",
    "npoints = 20\n",
    "\n",
    "xmin = np.array(xmin*xdim)\n",
    "xmax = np.array(xmax*xdim)\n",
    "\n",
    "def target(x):\n",
    "    return np.cos(x[0]+x[1])\n",
    "    # return np.cos(x[0]+2*x[1]+0.5*x[2]+x[3])\n",
    "\n",
    "for d in range(xdim):\n",
    "    # Create a linear space in the dimension we are plotting\n",
    "    xlin = np.linspace(xmin[d], xmax[d], npoints)\n",
    "\n",
    "    for i in range(xdim):\n",
    "        # For every extra dimension do an extra plot so that we have more random points\n",
    "        # in the other dimensions\n",
    "\n",
    "        # Select a random point in the other dimensions\n",
    "        xran_origin = np.random.rand(xdim) * (xmax - xmin) + xmin\n",
    "\n",
    "        ytrue = []\n",
    "        all_xs = []\n",
    "\n",
    "        for xx in xlin:\n",
    "            xran = copy.deepcopy(xran_origin)\n",
    "            xran[d] = xx\n",
    "            ytrue.append(target(xran))\n",
    "            all_xs.append(xran)\n",
    "\n",
    "        ypred = batch_ansatz(params, phis, all_xs, num_layers)\n",
    "\n",
    "        if xdim == 2:\n",
    "            # when there is only 2 dimensions only one variable is fixed\n",
    "            # and so we can actually write the numerical value\n",
    "            other_d = (d + 1) % 2\n",
    "        else:\n",
    "            tag = f\"n={i}\"\n",
    "\n",
    "        color = plt.rcParams[\"axes.prop_cycle\"].by_key()[\"color\"][i]\n",
    "\n",
    "        plt.plot(\n",
    "            xlin,\n",
    "            ypred,\n",
    "            label=f\"Approximation\",\n",
    "            linewidth=2.5,\n",
    "            alpha=0.6,\n",
    "            ls=\"-\",\n",
    "            color=color,\n",
    "        )\n",
    "        plt.plot(\n",
    "            xlin,\n",
    "            np.stack(ytrue),\n",
    "            label=f\"Target\",\n",
    "            linewidth=1.5,\n",
    "            alpha=0.8,\n",
    "            ls=\"--\",\n",
    "            color=color,\n",
    "        )\n",
    "\n",
    "    plt.grid(True)\n",
    "    if d == xdim-1:\n",
    "        plt.title(f\"independent on $a_0$\")\n",
    "    else:\n",
    "        plt.title(f\"independent on x\"+str(d))\n",
    "\n",
    "    plt.xlabel(r\"$x_1$\")\n",
    "\n",
    "    plt.ylabel(r\"$g(x)$\")\n",
    "    plt.legend()\n",
    "    plt.show()\n"
   ]
  },
  {
   "cell_type": "markdown",
   "metadata": {},
   "source": [
    "### How to get the integration values?"
   ]
  },
  {
   "cell_type": "code",
   "execution_count": null,
   "metadata": {},
   "outputs": [],
   "source": []
  },
  {
   "cell_type": "code",
   "execution_count": null,
   "metadata": {},
   "outputs": [],
   "source": []
  },
  {
   "cell_type": "code",
   "execution_count": null,
   "metadata": {},
   "outputs": [],
   "source": []
  },
  {
   "cell_type": "code",
   "execution_count": null,
   "metadata": {},
   "outputs": [],
   "source": []
  },
  {
   "cell_type": "code",
   "execution_count": null,
   "metadata": {},
   "outputs": [],
   "source": []
  },
  {
   "cell_type": "code",
   "execution_count": null,
   "metadata": {},
   "outputs": [],
   "source": []
  },
  {
   "cell_type": "code",
   "execution_count": null,
   "metadata": {},
   "outputs": [],
   "source": []
  }
 ],
 "metadata": {
  "kernelspec": {
   "display_name": "Python 3 (ipykernel)",
   "language": "python",
   "name": "python3"
  },
  "language_info": {
   "codemirror_mode": {
    "name": "ipython",
    "version": 3
   },
   "file_extension": ".py",
   "mimetype": "text/x-python",
   "name": "python",
   "nbconvert_exporter": "python",
   "pygments_lexer": "ipython3",
   "version": "3.8.10"
  }
 },
 "nbformat": 4,
 "nbformat_minor": 4
}
