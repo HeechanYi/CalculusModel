{
 "cells": [
  {
   "cell_type": "code",
   "execution_count": null,
   "metadata": {},
   "outputs": [],
   "source": [
    "import pennylane as qml\n",
    "from pennylane.optimize import AdamOptimizer\n",
    "from pennylane import numpy as np\n",
    "\n",
    "import matplotlib.pyplot as plt"
   ]
  },
  {
   "cell_type": "code",
   "execution_count": null,
   "metadata": {},
   "outputs": [],
   "source": [
    "np.random.seed(32)"
   ]
  },
  {
   "cell_type": "markdown",
   "metadata": {},
   "source": [
    "### Data Generation"
   ]
  },
  {
   "cell_type": "code",
   "execution_count": null,
   "metadata": {},
   "outputs": [],
   "source": [
    "def Line(samples):\n",
    "\n",
    "    xdata = []\n",
    "    ydata = []\n",
    "\n",
    "    for i in range(samples):\n",
    "        x = np.random.uniform(-1, 1)\n",
    "        y = x\n",
    "\n",
    "        xdata.append(x)\n",
    "        ydata.append(y)\n",
    "    \n",
    "    return np.array(xdata, requires_grad = True) , np.array(ydata, requires_grad = False)\n",
    "\n",
    "# --------------------------------------------------- #\n",
    "\n",
    "def Exp(samples):\n",
    "    xdata = []\n",
    "    ydata = []\n",
    "\n",
    "    for i in range(samples):\n",
    "        x = np.random.uniform(-1, 1)\n",
    "        y = np.exp(x-1)\n",
    "\n",
    "        xdata.append(x)\n",
    "        ydata.append(y)\n",
    "    \n",
    "    return np.array(xdata, requires_grad = True) , np.array(ydata, requires_grad = False)\n",
    "\n",
    "# --------------------------------------------------- #\n",
    "\n",
    "def Inverse(samples):\n",
    "    xdata = []\n",
    "    ydata = []\n",
    "    \n",
    "    for i in range(samples):\n",
    "        xarr = np.arange(-1, 1.02, 1/50)\n",
    "        x = np.random.choice(xarr)\n",
    "        y = 1 / (50*x)\n",
    "\n",
    "        xdata.append(x)\n",
    "        ydata.append(y)\n",
    "    \n",
    "    return np.array(xdata, requires_grad = True) , np.array(ydata, requires_grad = False)\n",
    "\n",
    "# --------------------------------------------------- #\n",
    "\n",
    "def Square(samples):\n",
    "    xdata = []\n",
    "    ydata = []\n",
    "    \n",
    "    for i in range(samples):\n",
    "        x = np.random.uniform(-1, 1)\n",
    "        y = x**2\n",
    "\n",
    "        xdata.append(x)\n",
    "        ydata.append(y)\n",
    "    \n",
    "    return np.array(xdata, requires_grad = True) , np.array(ydata, requires_grad = False)\n",
    "\n",
    "def Cos(samples):\n",
    "    xdata = []\n",
    "    ydata = []\n",
    "\n",
    "    for i in range(samples):\n",
    "        x = np.random.uniform(-np.pi, np.pi)\n",
    "        y = np.cos(x)\n",
    "\n",
    "        xdata.append(x)\n",
    "        ydata.append(y)\n",
    "    \n",
    "    return np.array(xdata, requires_grad = True) , np.array(ydata, requires_grad = False)"
   ]
  },
  {
   "cell_type": "markdown",
   "metadata": {},
   "source": [
    "### VQC Model"
   ]
  },
  {
   "cell_type": "code",
   "execution_count": null,
   "metadata": {},
   "outputs": [],
   "source": [
    "dev = qml.device(\"lightning.qubit\", wires = 10)\n",
    "\n",
    "@qml.qnode(dev)\n",
    "def DataReup_model(x, params, num_qubits, num_layers):\n",
    "    \n",
    "    idx = 0\n",
    "\n",
    "    for _ in range(num_layers):\n",
    "        for i in range(num_qubits):\n",
    "            qml.RY(params[idx], wires = i)\n",
    "            qml.RZ(params[idx+1]*x, wires = i, id= 'Data Upload')\n",
    "            qml.RZ(params[idx+2], wires = i)\n",
    "            qml.RY(params[idx+3], wires = i)\n",
    "            qml.RZ(params[idx+4], wires = i)\n",
    "            idx += 5\n",
    "\n",
    "        if num_qubits > 1:\n",
    "            for q in range(0,num_qubits-1,1):\n",
    "                qml.CZ([q, q+1])\n",
    "                \n",
    "            if num_qubits > 2:\n",
    "                qml.CZ([num_qubits-1, 0])\n",
    "\n",
    "    for i in range(num_qubits):\n",
    "        qml.RY(params[-1-i], wires = i)\n",
    "    \n",
    "    obs = qml.PauliZ(0)\n",
    "    for i in range(num_qubits-1):\n",
    "        obs @= qml.PauliZ(i+1)\n",
    "\n",
    "    return qml.expval(obs)"
   ]
  },
  {
   "cell_type": "markdown",
   "metadata": {},
   "source": [
    "### Cost function"
   ]
  },
  {
   "cell_type": "code",
   "execution_count": null,
   "metadata": {},
   "outputs": [],
   "source": [
    "def cost_function(xdata, thetas, num_qubits, num_layers, ydata):\n",
    "    ypred = [qml.grad(DataReup_model)(x_, thetas, num_qubits, num_layers)[0] for x_ in xdata]\n",
    "    loss = 0\n",
    "\n",
    "    for i in range(len(ydata)):\n",
    "        loss += (ydata[i] - ypred[i]) ** 2\n",
    "\n",
    "    return loss / len(ydata)"
   ]
  },
  {
   "cell_type": "markdown",
   "metadata": {},
   "source": [
    "### Model running"
   ]
  },
  {
   "cell_type": "code",
   "execution_count": null,
   "metadata": {},
   "outputs": [],
   "source": [
    "def model_running(xdata, thetas, num_qubits, num_layers):\n",
    "    exp = [DataReup_model(x_, thetas, num_qubits, num_layers) for x_ in xdata]\n",
    "    diffpred = [qml.grad(DataReup_model)(x_, thetas, num_qubits, num_layers)[0] for x_ in xdata]\n",
    "\n",
    "    return np.array(exp), np.array(diffpred)"
   ]
  },
  {
   "cell_type": "code",
   "execution_count": null,
   "metadata": {},
   "outputs": [],
   "source": [
    "def iterate_minibatches(inputs, targets, batch_size):\n",
    "\n",
    "    for start_idx in range(0, inputs.shape[0] - batch_size + 1, batch_size):\n",
    "        idxs = slice(start_idx, start_idx + batch_size)\n",
    "        yield inputs[idxs], targets[idxs]"
   ]
  },
  {
   "cell_type": "markdown",
   "metadata": {},
   "source": [
    "### Utility"
   ]
  },
  {
   "cell_type": "code",
   "execution_count": null,
   "metadata": {},
   "outputs": [],
   "source": [
    "def accuracy(ypred, ydata):\n",
    "\n",
    "    score = 0\n",
    "    for i in range(len(ydata)):\n",
    "        acc = ypred[i] / ydata[i] - 1\n",
    "        if np.abs(acc) < 0.2:\n",
    "            score += 1\n",
    "\n",
    "    return score/len(ydata)"
   ]
  },
  {
   "cell_type": "markdown",
   "metadata": {},
   "source": [
    "-----"
   ]
  },
  {
   "cell_type": "code",
   "execution_count": null,
   "metadata": {},
   "outputs": [],
   "source": [
    "train_data, train_target = Line(50)\n",
    "test_data, test_target = Line(100)\n",
    "\n",
    "# Quantum circuit settings\n",
    "num_qubits = 2\n",
    "num_layers = 4\n",
    "\n",
    "# Trainnig option settings\n",
    "epochs = 100\n",
    "batch_size = 25\n",
    "lr = 0.05\n",
    "\n",
    "# Using the Optimizer\n",
    "opt = AdamOptimizer(lr)                 ### Adam Optimizer\n",
    "\n",
    "# Initializing random parameters for the circuit\n",
    "thetas = np.random.uniform(size = 5*num_qubits*num_layers+num_qubits, requires_grad = True)\n",
    "#print(thetas)"
   ]
  },
  {
   "cell_type": "code",
   "execution_count": null,
   "metadata": {},
   "outputs": [],
   "source": [
    "### Evaluating the qNN\n",
    "# Running the model with val data\n",
    "exp_train, diffpred_train = model_running(train_data, thetas, num_qubits, num_layers)\n",
    "score_train = accuracy(diffpred_train, train_target)\n",
    "\n",
    "# Running the model with the test data\n",
    "exp_test, diffpred_test = model_running(test_data, thetas, num_qubits, num_layers)\n",
    "score_test = accuracy(diffpred_test, test_target)\n",
    "\n",
    "# Saving predictions with random weights for comparison \n",
    "initial_expectation = exp_test\n",
    "initial_diffpred = diffpred_test\n",
    "\n",
    "loss = cost_function(test_data, thetas, num_qubits, num_layers, test_target)\n",
    "\n",
    "loss_list = [loss]\n",
    "accuracy_train_list = [score_train]\n",
    "accuracy_test_list = [score_test]\n",
    "\n",
    "print(\n",
    "    \"Epoch: {:2d} | Cost: {:3f} | Train accuracy: {:3f} | Test accuracy: {:3f}\".format(\n",
    "        0, loss.item(), score_train, score_test\n",
    "    )\n",
    ")\n",
    "\n",
    "for it in range(epochs):\n",
    "    for Xbatch, ybatch in iterate_minibatches(train_data, train_target, batch_size=batch_size):\n",
    "        _, thetas, _, _, _ = opt.step(cost_function, Xbatch, thetas, num_qubits, num_layers, ybatch)\n",
    "\n",
    "    exp_train, diffpred_train = model_running(train_data, thetas, num_qubits, num_layers)\n",
    "    score_train = accuracy(diffpred_train, train_target)\n",
    "    loss = cost_function(test_data, thetas, num_qubits, num_layers, test_target)\n",
    "\n",
    "    exp_test, diffpred_test = model_running(test_data, thetas, num_qubits, num_layers)\n",
    "    score_test = accuracy(diffpred_test, test_target)\n",
    "    res = [it + 1, loss.item(), score_train, score_test]\n",
    "    print(\n",
    "        \"Epoch: {:2d} | Loss: {:3f} | Train accuracy: {:3f} | Test accuracy: {:3f}\".format(\n",
    "            *res\n",
    "        )\n",
    "    )\n",
    "\n",
    "    loss_list.append(loss)\n",
    "    accuracy_train_list.append(score_train)\n",
    "    accuracy_test_list.append(score_test)"
   ]
  },
  {
   "cell_type": "code",
   "execution_count": null,
   "metadata": {},
   "outputs": [],
   "source": [
    "print(\"Learned weights\")\n",
    "print(\"thetas = {}\".format(thetas))\n",
    "\n",
    "fig, axis = plt.subplots(1, 3, figsize=(10, 3))\n",
    "\n",
    "axis[0].scatter(test_data, test_target, s=2, label = \"Target\")\n",
    "axis[1].scatter(test_data, test_target, s=2, label = \"Target\")\n",
    "axis[1].scatter(test_data, initial_diffpred, color = 'red', marker = '.', label = \"differentiate x\")\n",
    "axis[1].scatter(test_data, initial_expectation, color = 'c', marker = 'x', label = 'expecatation value')\n",
    "axis[2].scatter(test_data, test_target, s=2, label = \"Target\")\n",
    "axis[2].scatter(test_data, diffpred_test, color = 'red', marker = '.', label = \"differentiate x\")\n",
    "axis[2].scatter(test_data, exp_test, color = 'c', marker = 'x', label = 'expecatation value')\n",
    "\n",
    "axis[0].set_ylim((-1,1))\n",
    "axis[1].set_ylim((-1,1))\n",
    "axis[2].set_ylim((-1,1))\n",
    "\n",
    "axis[0].grid(True)\n",
    "axis[1].grid(True)\n",
    "axis[2].grid(True)\n",
    "\n",
    "axis[0].legend()\n",
    "axis[1].legend()\n",
    "axis[2].legend()\n",
    "\n",
    "axis[0].set_title(\"Target Integrand\")\n",
    "axis[1].set_title(\"Initial Distribution\")\n",
    "axis[2].set_title(\"Trained Distribuition\")\n",
    "\n",
    "axis[0].grid(True)\n",
    "plt.show()"
   ]
  },
  {
   "cell_type": "code",
   "execution_count": null,
   "metadata": {},
   "outputs": [],
   "source": [
    "def Integration(xmin, xmax, thetas, num_qubits,num_layers):\n",
    "    upper = DataReup_model(xmax, thetas, num_qubits, num_layers)\n",
    "    lower = DataReup_model(xmin, thetas, num_qubits, num_layers)\n",
    "    \n",
    "    return upper - lower"
   ]
  },
  {
   "cell_type": "code",
   "execution_count": null,
   "metadata": {},
   "outputs": [],
   "source": [
    "xlin = np.linspace(-np.pi, np.pi)\n",
    "VQC_integral = Integration(0, xlin, thetas, num_qubits, num_layers)\n",
    "\n",
    "fig, axis = plt.subplots(\n",
    "    2, 1, sharex=True, figsize=(6, 6 * 6 / 8), gridspec_kw={\"height_ratios\": [5, 2]}\n",
    ")\n",
    "axis[0].set_title(f\"Approximation with {num_qubits} qubits & {num_layers} layers\")\n",
    "axis[0].plot(xlin, VQC_integral, '--',label = \"VQC Prediction\")\n",
    "\n",
    "### Please fill the integration function with the constant we can make it with hand\n",
    "axis[0].plot(xlin, np.sin(xlin), 'r-.' ,label = \"Target\")\n",
    "\n",
    "axis[0].legend()\n",
    "axis[0].grid(True)\n",
    "axis[0].set_xlabel('x')\n",
    "axis[0].set_ylabel('Distribution values')\n",
    "\n",
    "axis[1].plot(xlin, VQC_integral-np.sin(xlin), label = 'Difference')\n",
    "axis[1].hlines(0, -np.pi, np.pi, color=\"black\", alpha=0.7, ls=\"-.\", lw=1.5)\n",
    "axis[1].set_ylim(-0.1,0.1)\n",
    "axis[1].set_ylabel(\"Pred-Target\")\n",
    "axis[1].set_xlabel('x')\n",
    "axis[1].grid(False)"
   ]
  },
  {
   "cell_type": "code",
   "execution_count": null,
   "metadata": {},
   "outputs": [],
   "source": []
  }
 ],
 "metadata": {
  "kernelspec": {
   "display_name": "Python 3",
   "language": "python",
   "name": "python3"
  },
  "language_info": {
   "codemirror_mode": {
    "name": "ipython",
    "version": 3
   },
   "file_extension": ".py",
   "mimetype": "text/x-python",
   "name": "python",
   "nbconvert_exporter": "python",
   "pygments_lexer": "ipython3",
   "version": "3.11.7"
  }
 },
 "nbformat": 4,
 "nbformat_minor": 2
}
