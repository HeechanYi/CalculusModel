{
 "cells": [
  {
   "cell_type": "code",
   "execution_count": 1,
   "metadata": {},
   "outputs": [],
   "source": [
    "import pennylane as qml\n",
    "from pennylane.templates import StronglyEntanglingLayers\n",
    "from pennylane.optimize import AdamOptimizer, GradientDescentOptimizer\n",
    "from pennylane import numpy as np\n",
    "\n",
    "import matplotlib.pyplot as plt\n",
    "\n",
    "from copy import deepcopy"
   ]
  },
  {
   "cell_type": "code",
   "execution_count": 2,
   "metadata": {},
   "outputs": [],
   "source": [
    "np.random.seed(32)"
   ]
  },
  {
   "cell_type": "markdown",
   "metadata": {},
   "source": [
    "### Data Generation"
   ]
  },
  {
   "cell_type": "code",
   "execution_count": 3,
   "metadata": {},
   "outputs": [],
   "source": [
    "def Line(samples):\n",
    "\n",
    "    xdata = []\n",
    "    ydata = []\n",
    "\n",
    "    for i in range(samples):\n",
    "        x = np.random.uniform(-1, 1)\n",
    "        y = x\n",
    "\n",
    "        xdata.append(x)\n",
    "        ydata.append(y)\n",
    "    \n",
    "    return np.array(xdata, requires_grad = True) , np.array(ydata, requires_grad = False)\n",
    "\n",
    "# --------------------------------------------------- #\n",
    "\n",
    "def Exp(samples):\n",
    "    xdata = []\n",
    "    ydata = []\n",
    "\n",
    "    for i in range(samples):\n",
    "        x = np.random.uniform(-1, 1)\n",
    "        y = np.exp(x-1)\n",
    "\n",
    "        xdata.append(x)\n",
    "        ydata.append(y)\n",
    "    \n",
    "    return np.array(xdata, requires_grad = True) , np.array(ydata, requires_grad = False)\n",
    "\n",
    "# --------------------------------------------------- #\n",
    "\n",
    "def Inverse(samples):\n",
    "    xdata = []\n",
    "    ydata = []\n",
    "    \n",
    "    for i in range(samples):\n",
    "        xarr = np.arange(-1, 1.02, 1/50)\n",
    "        x = np.random.choice(xarr)\n",
    "        y = 1 / (50*x)\n",
    "\n",
    "        xdata.append(x)\n",
    "        ydata.append(y)\n",
    "    \n",
    "    return np.array(xdata, requires_grad = True) , np.array(ydata, requires_grad = False)\n",
    "\n",
    "# --------------------------------------------------- #\n",
    "\n",
    "def Square(samples):\n",
    "    xdata = []\n",
    "    ydata = []\n",
    "    \n",
    "    for i in range(samples):\n",
    "        x = np.random.uniform(-1, 1)\n",
    "        y = x**2\n",
    "\n",
    "        xdata.append(x)\n",
    "        ydata.append(y)\n",
    "    \n",
    "    return np.array(xdata, requires_grad = True) , np.array(ydata, requires_grad = False)\n",
    "\n",
    "def Cos(samples):\n",
    "    xdata = []\n",
    "    ydata = []\n",
    "\n",
    "    for i in range(samples):\n",
    "        x = np.random.uniform(-np.pi, np.pi)\n",
    "        y = np.cos(x)\n",
    "\n",
    "        xdata.append(x)\n",
    "        ydata.append(y)\n",
    "    \n",
    "    return np.array(xdata, requires_grad = True) , np.array(ydata, requires_grad = False)"
   ]
  },
  {
   "cell_type": "code",
   "execution_count": 4,
   "metadata": {},
   "outputs": [
    {
     "data": {
      "text/plain": [
       "'\\nplt.plot(xlin, np.cos(xlin))\\nplt.scatter(sum, ydata, color = \\'red\\', s = 9, marker = \\'x\\', alpha = 0.7)\\nplt.grid(True)\\nplt.title(\"f(x) = cos(x)\")\\nplt.show()\\n'"
      ]
     },
     "execution_count": 4,
     "metadata": {},
     "output_type": "execute_result"
    }
   ],
   "source": [
    "#sum = xdata[:,0] + 2*xdata[:,1] \n",
    "#print(sum)\n",
    "'''\n",
    "plt.plot(xlin, np.cos(xlin))\n",
    "plt.scatter(sum, ydata, color = 'red', s = 9, marker = 'x', alpha = 0.7)\n",
    "plt.grid(True)\n",
    "plt.title(\"f(x) = cos(x)\")\n",
    "plt.show()\n",
    "'''"
   ]
  },
  {
   "cell_type": "code",
   "execution_count": 5,
   "metadata": {},
   "outputs": [],
   "source": [
    "dev = qml.device('default.qubit', wires= 100)\n",
    "\n",
    "@qml.qnode(dev)\n",
    "def Fun_1dim(x, thetas, num_qubits, num_layers):\n",
    "    idx = 0\n",
    "\n",
    "    for _ in range(num_layers):\n",
    "        StronglyEntanglingLayers(thetas[idx], wires=range(num_qubits))\n",
    "        \n",
    "        for i in range(num_qubits):\n",
    "            qml.RX(x, wires = i, id = f\"x upload\")\n",
    "        \n",
    "        idx += 1\n",
    "\n",
    "    StronglyEntanglingLayers(thetas[-1], wires=range(num_qubits))\n",
    "\n",
    "    #return [qml.expval(qml.PauliZ(i)) for i in range(dim)]\n",
    "    \n",
    "    obs = qml.PauliZ(0)\n",
    "    for i in range(num_qubits-1):\n",
    "        obs @= qml.PauliZ(i+1)\n",
    "\n",
    "    return qml.expval(obs)"
   ]
  },
  {
   "cell_type": "code",
   "execution_count": 6,
   "metadata": {},
   "outputs": [
    {
     "name": "stdout",
     "output_type": "stream",
     "text": [
      "0: ──Rot(0.56,0.96,0.74)─╭●───────╭X──RX(-0.25,\"x upload\")──Rot(0.55,0.70,0.59)─╭●───────╭X\n",
      "1: ──Rot(0.82,0.10,0.93)─╰X─╭●────│───RX(-0.25,\"x upload\")──Rot(0.05,0.56,0.77)─╰X─╭●────│─\n",
      "2: ──Rot(0.61,0.60,0.09)────╰X─╭●─│───RX(-0.25,\"x upload\")──Rot(0.91,0.09,0.90)────╰X─╭●─│─\n",
      "3: ──Rot(0.35,0.66,0.44)───────╰X─╰●──RX(-0.25,\"x upload\")──Rot(0.46,0.45,1.00)───────╰X─╰●\n",
      "\n",
      "───RX(-0.25,\"x upload\")──Rot(0.16,0.71,0.16)─╭●───────╭X─┤ ╭<Z@Z@Z@Z>\n",
      "───RX(-0.25,\"x upload\")──Rot(0.81,0.04,0.53)─╰X─╭●────│──┤ ├<Z@Z@Z@Z>\n",
      "───RX(-0.25,\"x upload\")──Rot(0.17,0.31,0.05)────╰X─╭●─│──┤ ├<Z@Z@Z@Z>\n",
      "───RX(-0.25,\"x upload\")──Rot(0.24,0.67,0.78)───────╰X─╰●─┤ ╰<Z@Z@Z@Z>\n",
      "[tensor(0.43255745, requires_grad=True)]\n"
     ]
    }
   ],
   "source": [
    "xdata , ydata = Square(1)\n",
    "\n",
    "num_layers = 2\n",
    "num_qubits = 4\n",
    "\n",
    "thetas = np.random.uniform(size=(num_layers+1, 1, num_qubits, 3), requires_grad=True)\n",
    "#print(thetas)\n",
    "#print(thetas[0])\n",
    "print(qml.draw(Fun_1dim, expansion_strategy=\"device\")(xdata[0], thetas, num_qubits, num_layers))\n",
    "y = [Fun_1dim(x_, thetas, num_qubits, num_layers) for x_ in xdata]\n",
    "print(y)"
   ]
  },
  {
   "cell_type": "code",
   "execution_count": 7,
   "metadata": {},
   "outputs": [
    {
     "name": "stdout",
     "output_type": "stream",
     "text": [
      "[tensor(0.12893572, requires_grad=True)]\n",
      "[0.0648098]\n"
     ]
    }
   ],
   "source": [
    "yz = [qml.grad(Fun_1dim)(x_, thetas, num_qubits, num_layers)[0] for x_ in xdata]\n",
    "print(yz)\n",
    "print(ydata)"
   ]
  },
  {
   "cell_type": "code",
   "execution_count": 8,
   "metadata": {},
   "outputs": [],
   "source": [
    "def cost_function(xdata, thetas, num_qubits, num_layers, ydata):\n",
    "    ypred = [qml.grad(Fun_1dim)(x_, thetas, num_qubits, num_layers)[0] for x_ in xdata]\n",
    "    loss = 0\n",
    "    np.array(ypred)\n",
    "    for i in range(len(ydata)):\n",
    "        loss += (ydata[i] - ypred[i]) ** 2\n",
    "\n",
    "    return loss / len(ydata)"
   ]
  },
  {
   "cell_type": "code",
   "execution_count": 9,
   "metadata": {},
   "outputs": [],
   "source": [
    "def model_running(xdata, thetas, num_qubits, num_layers):\n",
    "    exp = [Fun_1dim(x_, thetas, num_qubits, num_layers) for x_ in xdata]\n",
    "    diffpred = [qml.grad(Fun_1dim)(x_, thetas, num_qubits, num_layers)[0] for x_ in xdata]\n",
    "\n",
    "    return np.array(exp), np.array(diffpred)"
   ]
  },
  {
   "cell_type": "markdown",
   "metadata": {},
   "source": [
    "-----"
   ]
  },
  {
   "cell_type": "code",
   "execution_count": 14,
   "metadata": {},
   "outputs": [],
   "source": [
    "train_data, train_target = Square(10)\n",
    "test_data, test_target = Square(25)\n",
    "\n",
    "# Trainnig option settings\n",
    "num_qubits = 2\n",
    "num_layers = 4\n",
    "epochs = 50\n",
    "#batch_size = 50\n",
    "lr = 0.05\n",
    "\n",
    "# Using the Optimizer\n",
    "opt = AdamOptimizer(lr)                 ### Adam Optimizer\n",
    "#opt = GradientDescentOptimizer(lr)      ### GradientDescent based on Parmaeter Shift Rule\n",
    "\n",
    "# Initializing random parameters for the circuit\n",
    "thetas = np.random.uniform(size=(num_layers+1, 1, num_qubits, 3), requires_grad=True)\n",
    "#print(thetas)"
   ]
  },
  {
   "cell_type": "code",
   "execution_count": 15,
   "metadata": {},
   "outputs": [
    {
     "name": "stdout",
     "output_type": "stream",
     "text": [
      "Epoch:  0 | Cost: 0.635876 |\n",
      "Epoch:  1 | Loss: 0.357421 |\n",
      "Epoch:  2 | Loss: 0.169681 |\n",
      "Epoch:  3 | Loss: 0.068605 |\n",
      "Epoch:  4 | Loss: 0.027230 |\n",
      "Epoch:  5 | Loss: 0.017378 |\n",
      "Epoch:  6 | Loss: 0.017712 |\n",
      "Epoch:  7 | Loss: 0.016584 |\n",
      "Epoch:  8 | Loss: 0.011731 |\n",
      "Epoch:  9 | Loss: 0.007574 |\n",
      "Epoch: 10 | Loss: 0.007219 |\n",
      "Epoch: 11 | Loss: 0.009851 |\n",
      "Epoch: 12 | Loss: 0.012403 |\n",
      "Epoch: 13 | Loss: 0.012358 |\n",
      "Epoch: 14 | Loss: 0.010251 |\n",
      "Epoch: 15 | Loss: 0.008031 |\n",
      "Epoch: 16 | Loss: 0.007018 |\n",
      "Epoch: 17 | Loss: 0.007466 |\n",
      "Epoch: 18 | Loss: 0.008184 |\n",
      "Epoch: 19 | Loss: 0.007718 |\n",
      "Epoch: 20 | Loss: 0.006160 |\n",
      "Epoch: 21 | Loss: 0.004517 |\n",
      "Epoch: 22 | Loss: 0.003522 |\n",
      "Epoch: 23 | Loss: 0.003287 |\n",
      "Epoch: 24 | Loss: 0.003158 |\n",
      "Epoch: 25 | Loss: 0.002581 |\n",
      "Epoch: 26 | Loss: 0.001749 |\n",
      "Epoch: 27 | Loss: 0.001140 |\n",
      "Epoch: 28 | Loss: 0.001065 |\n",
      "Epoch: 29 | Loss: 0.001347 |\n",
      "Epoch: 30 | Loss: 0.001437 |\n",
      "Epoch: 31 | Loss: 0.001160 |\n",
      "Epoch: 32 | Loss: 0.000768 |\n",
      "Epoch: 33 | Loss: 0.000610 |\n",
      "Epoch: 34 | Loss: 0.000789 |\n",
      "Epoch: 35 | Loss: 0.000985 |\n",
      "Epoch: 36 | Loss: 0.000933 |\n",
      "Epoch: 37 | Loss: 0.000670 |\n",
      "Epoch: 38 | Loss: 0.000444 |\n",
      "Epoch: 39 | Loss: 0.000446 |\n",
      "Epoch: 40 | Loss: 0.000559 |\n",
      "Epoch: 41 | Loss: 0.000586 |\n",
      "Epoch: 42 | Loss: 0.000480 |\n",
      "Epoch: 43 | Loss: 0.000360 |\n",
      "Epoch: 44 | Loss: 0.000342 |\n",
      "Epoch: 45 | Loss: 0.000372 |\n",
      "Epoch: 46 | Loss: 0.000355 |\n",
      "Epoch: 47 | Loss: 0.000282 |\n",
      "Epoch: 48 | Loss: 0.000229 |\n",
      "Epoch: 49 | Loss: 0.000237 |\n",
      "Epoch: 50 | Loss: 0.000243 |\n"
     ]
    }
   ],
   "source": [
    "exp_train, diff_train  = model_running(train_data, thetas, num_qubits, num_layers)\n",
    "exp_test, diff_test = model_running(test_data, thetas, num_qubits, num_layers)\n",
    "\n",
    "# Saving predictions with random weights for comparison \n",
    "initial_diff = diff_test\n",
    "initial_exp = exp_test\n",
    "\n",
    "loss = cost_function(train_data, thetas, num_qubits, num_layers, train_target)\n",
    "loss_list = [loss]\n",
    "\n",
    "print(\n",
    "    \"Epoch: {:2d} | Cost: {:3f} |\".format(\n",
    "        0, loss.item()\n",
    "    )\n",
    ")\n",
    "\n",
    "for it in range(epochs):\n",
    "    _, thetas, _, _, _ = opt.step(cost_function, train_data, thetas, num_qubits, num_layers, train_target)\n",
    "\n",
    "    exp_train, diff_train = model_running(train_data, thetas, num_qubits, num_layers)\n",
    "    loss = cost_function(train_data, thetas, num_qubits, num_layers, train_target)\n",
    "\n",
    "    exp_test, diff_test = model_running(test_data, thetas, num_qubits, num_layers)\n",
    "\n",
    "    res = [it + 1, loss.item()]\n",
    "    print(\n",
    "        \"Epoch: {:2d} | Loss: {:3f} |\".format(\n",
    "            *res\n",
    "        )\n",
    "    )\n",
    "\n",
    "    loss_list.append(loss)"
   ]
  },
  {
   "cell_type": "code",
   "execution_count": 16,
   "metadata": {},
   "outputs": [
    {
     "name": "stdout",
     "output_type": "stream",
     "text": [
      "Learned weights\n",
      "thetas = [[[[ 0.61122462 -0.06250772  1.02214351]\n",
      "   [ 0.04400528 -0.05525588  0.19081823]]]\n",
      "\n",
      "\n",
      " [[[ 0.72161329  0.87276122  0.62710286]\n",
      "   [ 0.37328232 -0.67720229  0.22320557]]]\n",
      "\n",
      "\n",
      " [[[ 0.82729533  1.09821184  1.1140332 ]\n",
      "   [ 0.54732915  0.59429872  0.80855323]]]\n",
      "\n",
      "\n",
      " [[[-0.10784374  0.24405018  0.85262453]\n",
      "   [-0.09874179  0.95820956  0.30536443]]]\n",
      "\n",
      "\n",
      " [[[ 0.3404079   1.01723155  0.08563918]\n",
      "   [ 0.05166892  0.38883048  0.47596747]]]]\n",
      "25 25 25 25 25 25\n"
     ]
    },
    {
     "data": {
      "image/png": "[encoded data removed]",
      "text/plain": [
       "<Figure size 1000x300 with 3 Axes>"
      ]
     },
     "metadata": {},
     "output_type": "display_data"
    }
   ],
   "source": [
    "print(\"Learned weights\")\n",
    "print(\"thetas = {}\".format(thetas))\n",
    "\n",
    "fig, axis = plt.subplots(1, 3, figsize=(10, 3))\n",
    "\n",
    "axis[0].scatter(test_data, test_target, label = \"cox(x)\")\n",
    "axis[1].scatter(test_data, initial_diff, color = 'red', marker = '.', label = \"differentiate x\")\n",
    "axis[1].scatter(test_data, initial_exp, color = 'c', marker = 'x', label = 'expecatation value')\n",
    "axis[2].scatter(test_data, diff_test, color = 'red', marker = '.', label = \"differentiate x\")\n",
    "axis[2].scatter(test_data, exp_test, color = 'c', marker = 'x', label = 'expecatation value')\n",
    "\n",
    "axis[0].set_ylim((-1,1))\n",
    "axis[1].set_ylim((-1,1))\n",
    "axis[2].set_ylim((-1,1))\n",
    "\n",
    "axis[0].grid(True)\n",
    "axis[1].grid(True)\n",
    "axis[2].grid(True)\n",
    "\n",
    "axis[0].set_title(\"Test datas of Square\")\n",
    "axis[1].set_title(\"Initial Distribution\")\n",
    "axis[2].set_title(\"Trained Distribuition\")\n",
    "\n",
    "axis[0].grid(True)\n",
    "plt.show()"
   ]
  },
  {
   "cell_type": "code",
   "execution_count": 19,
   "metadata": {},
   "outputs": [],
   "source": [
    "def Integration(xmin, xmax, thetas, num_qubits,num_layers):\n",
    "    upper = Fun_1dim(xmax, thetas, num_qubits, num_layers)\n",
    "    lower = Fun_1dim(xmin, thetas, num_qubits, num_layers)\n",
    "    \n",
    "    return upper - lower"
   ]
  },
  {
   "cell_type": "code",
   "execution_count": 26,
   "metadata": {},
   "outputs": [
    {
     "data": {
      "image/png": "[encoded data removed]",
      "text/plain": [
       "<Figure size 640x480 with 1 Axes>"
      ]
     },
     "metadata": {},
     "output_type": "display_data"
    }
   ],
   "source": [
    "xlin = np.linspace(-1, 1)\n",
    "integral = Integration(0, xlin, thetas, num_qubits, num_layers)\n",
    "plt.plot(xlin, integral, label = 'VQC approxi')\n",
    "plt.plot(xlin, 1/3*xlin**3, label = 'target')\n",
    "plt.grid()\n",
    "plt.show()"
   ]
  },
  {
   "cell_type": "code",
   "execution_count": null,
   "metadata": {},
   "outputs": [],
   "source": []
  }
 ],
 "metadata": {
  "kernelspec": {
   "display_name": "Python 3",
   "language": "python",
   "name": "python3"
  },
  "language_info": {
   "codemirror_mode": {
    "name": "ipython",
    "version": 3
   },
   "file_extension": ".py",
   "mimetype": "text/x-python",
   "name": "python",
   "nbconvert_exporter": "python",
   "pygments_lexer": "ipython3",
   "version": "3.11.7"
  }
 },
 "nbformat": 4,
 "nbformat_minor": 2
}
