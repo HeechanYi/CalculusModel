{
 "cells": [
  {
   "cell_type": "code",
   "execution_count": 1,
   "metadata": {},
   "outputs": [],
   "source": [
    "import pennylane as qml\n",
    "from pennylane.optimize import AdamOptimizer, GradientDescentOptimizer\n",
    "from pennylane import numpy as np\n",
    "\n",
    "import matplotlib.pyplot as plt\n",
    "\n",
    "from sklearn.model_selection import train_test_split\n",
    "from scipy.integrate import quad"
   ]
  },
  {
   "cell_type": "code",
   "execution_count": 2,
   "metadata": {},
   "outputs": [],
   "source": [
    "np.random.seed(32)"
   ]
  },
  {
   "cell_type": "markdown",
   "metadata": {},
   "source": [
    "### Data Load"
   ]
  },
  {
   "cell_type": "code",
   "execution_count": 4,
   "metadata": {},
   "outputs": [],
   "source": [
    "### xdata\n",
    "data = np.load('/Data/uquark.npz') "
   ]
  },
  {
   "cell_type": "code",
   "execution_count": 5,
   "metadata": {},
   "outputs": [
    {
     "name": "stdout",
     "output_type": "stream",
     "text": [
      "[1.00000000e-04 1.15139540e-04 1.32571137e-04 1.52641797e-04\n",
      " 1.75751062e-04 2.02358965e-04 2.32995181e-04 2.68269580e-04\n",
      " 3.08884360e-04 3.55648031e-04 4.09491506e-04 4.71486636e-04\n",
      " 5.42867544e-04 6.25055193e-04 7.19685673e-04 8.28642773e-04\n",
      " 9.54095476e-04 1.09854114e-03 1.26485522e-03 1.45634848e-03\n",
      " 1.67683294e-03 1.93069773e-03 2.22299648e-03 2.55954792e-03\n",
      " 2.94705170e-03 3.39322177e-03 3.90693994e-03 4.49843267e-03\n",
      " 5.17947468e-03 5.96362332e-03 6.86648845e-03 7.90604321e-03\n",
      " 9.10298178e-03 1.04811313e-02 1.20679264e-02 1.38949549e-02\n",
      " 1.59985872e-02 1.84206997e-02 2.12095089e-02 2.44205309e-02\n",
      " 2.81176870e-02 3.23745754e-02 3.72759372e-02 4.29193426e-02\n",
      " 4.94171336e-02 5.68986603e-02 6.55128557e-02 7.54312006e-02\n",
      " 8.68511374e-02 1.00000000e-01 1.00000000e-01 1.16326531e-01\n",
      " 1.32653061e-01 1.48979592e-01 1.65306122e-01 1.81632653e-01\n",
      " 1.97959184e-01 2.14285714e-01 2.30612245e-01 2.46938776e-01\n",
      " 2.63265306e-01 2.79591837e-01 2.95918367e-01 3.12244898e-01\n",
      " 3.28571429e-01 3.44897959e-01 3.61224490e-01 3.77551020e-01\n",
      " 3.93877551e-01 4.10204082e-01 4.26530612e-01 4.42857143e-01\n",
      " 4.59183673e-01 4.75510204e-01 4.91836735e-01 5.08163265e-01\n",
      " 5.24489796e-01 5.40816327e-01 5.57142857e-01 5.73469388e-01\n",
      " 5.89795918e-01 6.06122449e-01 6.22448980e-01 6.38775510e-01\n",
      " 6.55102041e-01 6.71428571e-01 6.87755102e-01 7.04081633e-01\n",
      " 7.20408163e-01 7.36734694e-01 7.53061224e-01 7.69387755e-01\n",
      " 7.85714286e-01 8.02040816e-01 8.18367347e-01 8.34693878e-01\n",
      " 8.51020408e-01 8.67346939e-01 8.83673469e-01 9.00000000e-01]\n",
      "[0.51234248 0.50723655 0.50217889 0.49716718 0.49219084 0.48724563\n",
      " 0.48232355 0.47741808 0.47252443 0.46763539 0.46274864 0.45785979\n",
      " 0.45296877 0.44807741 0.44319048 0.43831703 0.43347498 0.42867634\n",
      " 0.42396499 0.41935326 0.41491649 0.41067566 0.40672524 0.40311798\n",
      " 0.39993394 0.39728261 0.39522022 0.39389205 0.39337079 0.3937733\n",
      " 0.39522691 0.39781897 0.40167887 0.40689512 0.41353918 0.42166903\n",
      " 0.43126412 0.44226949 0.45459181 0.46809843 0.4826412  0.4980842\n",
      " 0.51432095 0.53128115 0.54892916 0.56725769 0.58627528 0.60596635\n",
      " 0.6262538  0.64691345 0.64691345 0.66891977 0.68701238 0.70116788\n",
      " 0.71130988 0.71739986 0.71946674 0.71760056 0.71194776 0.70270209\n",
      " 0.69009445 0.67438368 0.65584597 0.63476929 0.61144823 0.58618299\n",
      " 0.55927838 0.53104508 0.50179979 0.47186449 0.4415634  0.41121329\n",
      " 0.38111113 0.35152271 0.32267685 0.29476333 0.26793356 0.24230238\n",
      " 0.21795169 0.19493603 0.17328867 0.15302712 0.13415774 0.11667895\n",
      " 0.10058366 0.08586001 0.07249214 0.06045982 0.04973778 0.04029452\n",
      " 0.03209013 0.02507374 0.01918038 0.01432889 0.01042221 0.00735077\n",
      " 0.00499842 0.0032492  0.00199316 0.00113007]\n"
     ]
    }
   ],
   "source": [
    "xdata = data['x']\n",
    "ydata = data['y']\n",
    "print(xdata)\n",
    "print(ydata)"
   ]
  },
  {
   "cell_type": "code",
   "execution_count": 6,
   "metadata": {},
   "outputs": [
    {
     "data": {
      "image/png": "[encoded data removed]",
      "text/plain": [
       "<Figure size 500x300 with 1 Axes>"
      ]
     },
     "metadata": {},
     "output_type": "display_data"
    }
   ],
   "source": [
    "plt.figure(figsize=(5, 3))\n",
    "plt.plot(xdata, ydata, alpha = 0.7)\n",
    "plt.xscale('log')\n",
    "\n",
    "plt.xlabel('x')\n",
    "plt.ylabel('y')\n",
    "plt.title('u-quark PDF data plot')\n",
    "plt.grid(True)\n",
    "plt.show()"
   ]
  },
  {
   "cell_type": "markdown",
   "metadata": {},
   "source": [
    "### PDF Ansatz Model"
   ]
  },
  {
   "cell_type": "code",
   "execution_count": 8,
   "metadata": {},
   "outputs": [],
   "source": [
    "dev = qml.device(\"lightning.qubit\", wires = 10)\n",
    "\n",
    "@qml.qnode(dev)\n",
    "def VQC_Model(params, xdata, num_qubits, num_layers):\n",
    "    \n",
    "    idx = 0\n",
    "    for _ in range(num_layers):\n",
    "        for i in range(num_qubits):\n",
    "            qml.RY(params[idx], wires = i)\n",
    "            qml.RZ(params[idx+1]*xdata, wires = i, id= 'Data Upload')\n",
    "            qml.RZ(params[idx+2], wires = i)\n",
    "            qml.RY(params[idx+3], wires = i)\n",
    "            qml.RZ(params[idx+4], wires = i)\n",
    "            idx += 5\n",
    "\n",
    "        if num_qubits > 1:\n",
    "            for q in range(0,num_qubits-1,1):\n",
    "                qml.CRZ(params[idx],[q, q+1])\n",
    "                idx += 1\n",
    "    \n",
    "            if num_qubits > 2:\n",
    "                qml.CRZ(params[idx], [num_qubits-1, 0])\n",
    "                idx += 1\n",
    "\n",
    "    for i in range(num_qubits):\n",
    "        qml.RY(params[-1-i], wires = i)\n",
    "    \n",
    "    obs = qml.PauliZ(0)\n",
    "    if num_qubits > 1:\n",
    "        for i in range(num_qubits-1):\n",
    "            obs @= qml.PauliZ(i+1)\n",
    "\n",
    "    return qml.expval(obs)"
   ]
  },
  {
   "cell_type": "code",
   "execution_count": 9,
   "metadata": {},
   "outputs": [
    {
     "name": "stdout",
     "output_type": "stream",
     "text": [
      "-0.06406871231555614\n",
      "0: ──RY(0.86)──RZ(0.37,\"Data Upload\")──RZ(0.56)──RY(0.96)──RZ(0.74)─╭●─────────RY(0.70)─┤ ╭<Z@Z>\n",
      "1: ──RY(0.82)──RZ(0.10,\"Data Upload\")──RZ(0.93)──RY(0.61)──RZ(0.60)─╰RZ(0.09)──RY(0.55)─┤ ╰<Z@Z>\n"
     ]
    }
   ],
   "source": [
    "num_layers = 1\n",
    "num_qubits = 2\n",
    "params = np.random.uniform(size = num_qubits*(5*num_layers + num_layers + 1) +num_qubits, requires_grad = True)\n",
    "\n",
    "print(VQC_Model(params, 1, num_qubits, num_layers))\n",
    "print(qml.draw(VQC_Model)(params, 1, num_qubits, num_layers))"
   ]
  },
  {
   "cell_type": "markdown",
   "metadata": {},
   "source": [
    "### Cost function"
   ]
  },
  {
   "cell_type": "code",
   "execution_count": 12,
   "metadata": {},
   "outputs": [],
   "source": [
    "def cost_function(params, xdata, num_qubits, num_layers, y):\n",
    "    loss = 0.0\n",
    "\n",
    "    for i in range(len(xdata)):\n",
    "        prediction = VQC_Model(params, xdata[i], num_qubits, num_layers)\n",
    "        loss += (prediction - y[i])**2\n",
    "\n",
    "    return loss / len(xdata)"
   ]
  },
  {
   "cell_type": "markdown",
   "metadata": {},
   "source": [
    "### Model Running"
   ]
  },
  {
   "cell_type": "code",
   "execution_count": 14,
   "metadata": {},
   "outputs": [],
   "source": [
    "def model_running(params, x, num_qubits, num_layers):\n",
    "    \n",
    "    exp_values = []\n",
    "\n",
    "    for i in range(len(x)):\n",
    "        expval = VQC_Model(params, x[i], num_qubits, num_layers)\n",
    "        exp_values.append(expval)\n",
    "        \n",
    "    return np.array(exp_values)"
   ]
  },
  {
   "cell_type": "code",
   "execution_count": 16,
   "metadata": {},
   "outputs": [],
   "source": [
    "def iterate_minibatches(inputs, targets, batch_size):\n",
    "    \n",
    "    for start_idx in range(0, inputs.shape[0] - batch_size + 1, batch_size):\n",
    "        idxs = slice(start_idx, start_idx + batch_size)\n",
    "        yield inputs[idxs], targets[idxs]"
   ]
  },
  {
   "cell_type": "markdown",
   "metadata": {},
   "source": [
    "### Utility"
   ]
  },
  {
   "cell_type": "code",
   "execution_count": 15,
   "metadata": {},
   "outputs": [],
   "source": [
    "def accuracy(ypred, ydata):\n",
    "\n",
    "    score = 0\n",
    "    for i in range(len(ydata)):\n",
    "        acc = ypred[i] / ydata[i] - 1\n",
    "        if np.abs(acc) < 0.2:\n",
    "            score += 1\n",
    "    \n",
    "    return score/len(ydata)"
   ]
  },
  {
   "cell_type": "markdown",
   "metadata": {},
   "source": [
    "-----"
   ]
  },
  {
   "cell_type": "code",
   "execution_count": 17,
   "metadata": {},
   "outputs": [
    {
     "name": "stdout",
     "output_type": "stream",
     "text": [
      "[3.90693994e-03 3.08884360e-04 2.68269580e-04 5.42867544e-04\n",
      " 2.46938776e-01 8.02040816e-01 9.10298178e-03 2.81176870e-02\n",
      " 1.15139540e-04 8.28642773e-04 7.69387755e-01 1.93069773e-03\n",
      " 2.79591837e-01 1.00000000e-04 7.90604321e-03 5.08163265e-01\n",
      " 3.77551020e-01 3.39322177e-03 7.19685673e-04 1.48979592e-01\n",
      " 9.54095476e-04 1.00000000e-01 1.09854114e-03 1.26485522e-03\n",
      " 1.67683294e-03 5.17947468e-03 8.18367347e-01 4.26530612e-01\n",
      " 3.23745754e-02 6.38775510e-01 2.63265306e-01 1.97959184e-01\n",
      " 8.83673469e-01 5.40816327e-01 7.85714286e-01 1.16326531e-01\n",
      " 3.93877551e-01 7.54312006e-02 6.87755102e-01 5.68986603e-02\n",
      " 5.24489796e-01 6.22448980e-01 5.73469388e-01 1.84206997e-02\n",
      " 5.57142857e-01 6.86648845e-03 4.75510204e-01 2.32995181e-04\n",
      " 4.59183673e-01 3.28571429e-01 1.32653061e-01 5.96362332e-03\n",
      " 4.91836735e-01 8.34693878e-01 9.00000000e-01 2.12095089e-02\n",
      " 4.10204082e-01 2.14285714e-01 1.00000000e-01 4.09491506e-04\n",
      " 3.72759372e-02 2.94705170e-03 1.38949549e-02 1.20679264e-02\n",
      " 3.44897959e-01 7.53061224e-01 6.06122449e-01 4.71486636e-04\n",
      " 1.75751062e-04 3.55648031e-04 1.52641797e-04 7.36734694e-01\n",
      " 4.42857143e-01 1.45634848e-03 7.20408163e-01 2.95918367e-01\n",
      " 1.65306122e-01 2.02358965e-04 4.29193426e-02 7.04081633e-01]\n",
      "[0.39522022 0.47252443 0.47741808 0.45296877 0.70270209 0.01432889\n",
      " 0.40167887 0.4826412  0.50723655 0.43831703 0.02507374 0.41067566\n",
      " 0.67438368 0.51234248 0.39781897 0.29476333 0.53104508 0.39728261\n",
      " 0.44319048 0.70116788 0.43347498 0.64691345 0.42867634 0.42396499\n",
      " 0.41491649 0.39337079 0.01042221 0.4415634  0.4980842  0.11667895\n",
      " 0.69009445 0.71946674 0.00199316 0.24230238 0.01918038 0.66891977\n",
      " 0.50179979 0.60596635 0.07249214 0.56725769 0.26793356 0.13415774\n",
      " 0.19493603 0.44226949 0.21795169 0.39522691 0.35152271 0.48232355\n",
      " 0.38111113 0.61144823 0.68701238 0.3937733  0.32267685 0.00735077\n",
      " 0.00113007 0.45459181 0.47186449 0.71760056 0.64691345 0.46274864\n",
      " 0.51432095 0.39993394 0.42166903 0.41353918 0.58618299 0.03209013\n",
      " 0.15302712 0.45785979 0.49219084 0.46763539 0.49716718 0.04029452\n",
      " 0.41121329 0.41935326 0.04973778 0.65584597 0.71130988 0.48724563\n",
      " 0.53128115 0.06045982]\n",
      "[2.22299648e-03 2.44205309e-02 6.71428571e-01 8.67346939e-01\n",
      " 1.81632653e-01 1.04811313e-02 5.89795918e-01 6.25055193e-04\n",
      " 4.49843267e-03 8.51020408e-01 4.94171336e-02 6.55128557e-02\n",
      " 2.30612245e-01 2.55954792e-03 8.68511374e-02 6.55102041e-01\n",
      " 1.32571137e-04 3.61224490e-01 3.12244898e-01 1.59985872e-02]\n",
      "[0.40672524 0.46809843 0.08586001 0.0032492  0.71739986 0.40689512\n",
      " 0.17328867 0.44807741 0.39389205 0.00499842 0.54892916 0.58627528\n",
      " 0.71194776 0.40311798 0.6262538  0.10058366 0.50217889 0.55927838\n",
      " 0.63476929 0.43126412]\n"
     ]
    }
   ],
   "source": [
    "train_data, test_data, train_target, test_target = train_test_split(xdata, ydata, test_size=0.2, random_state=32)\n",
    "train_target = train_target.reshape(-1)\n",
    "test_target = test_target.reshape(-1)"
   ]
  },
  {
   "cell_type": "code",
   "execution_count": null,
   "metadata": {},
   "outputs": [],
   "source": [
    "# Trainnig option settings\n",
    "num_layers = 4\n",
    "num_qubits = 1\n",
    "epochs = 100\n",
    "batch_size = 50\n",
    "lr = 0.03\n",
    "\n",
    "# Using the Optimizer\n",
    "opt = AdamOptimizer(lr)                 ### Adam Optimizer\n",
    "#opt = GradientDescentOptimizer(lr)      ### GradientDescent based on Parmaeter Shift Rule\n",
    "\n",
    "# Initializing random parameters for the circuit\n",
    "params = np.random.uniform(size = num_layers * 5 + num_qubits, requires_grad = True)"
   ]
  },
  {
   "cell_type": "code",
   "execution_count": 23,
   "metadata": {},
   "outputs": [
    {
     "name": "stdout",
     "output_type": "stream",
     "text": [
      "Epoch:  0 | Cost: 0.221812 | Train accuracy: 0.062500 | Test Accuracy: 0.050000\n",
      "Epoch:  1 | Loss: 0.126165 | Train accuracy: 0.212500 | Test accuracy: 0.300000\n",
      "Epoch:  2 | Loss: 0.052978 | Train accuracy: 0.537500 | Test accuracy: 0.550000\n",
      "Epoch:  3 | Loss: 0.055847 | Train accuracy: 0.062500 | Test accuracy: 0.000000\n",
      "Epoch:  4 | Loss: 0.087108 | Train accuracy: 0.037500 | Test accuracy: 0.050000\n",
      "Epoch:  5 | Loss: 0.080893 | Train accuracy: 0.037500 | Test accuracy: 0.100000\n",
      "Epoch:  6 | Loss: 0.050661 | Train accuracy: 0.050000 | Test accuracy: 0.050000\n",
      "Epoch:  7 | Loss: 0.024522 | Train accuracy: 0.362500 | Test accuracy: 0.350000\n",
      "Epoch:  8 | Loss: 0.016254 | Train accuracy: 0.487500 | Test accuracy: 0.450000\n",
      "Epoch:  9 | Loss: 0.021947 | Train accuracy: 0.337500 | Test accuracy: 0.300000\n",
      "Epoch: 10 | Loss: 0.029572 | Train accuracy: 0.262500 | Test accuracy: 0.350000\n",
      "Epoch: 11 | Loss: 0.031386 | Train accuracy: 0.250000 | Test accuracy: 0.350000\n",
      "Epoch: 12 | Loss: 0.027200 | Train accuracy: 0.275000 | Test accuracy: 0.350000\n",
      "Epoch: 13 | Loss: 0.021390 | Train accuracy: 0.237500 | Test accuracy: 0.250000\n",
      "Epoch: 14 | Loss: 0.019136 | Train accuracy: 0.300000 | Test accuracy: 0.300000\n",
      "Epoch: 15 | Loss: 0.022497 | Train accuracy: 0.175000 | Test accuracy: 0.200000\n",
      "Epoch: 16 | Loss: 0.027977 | Train accuracy: 0.225000 | Test accuracy: 0.250000\n",
      "Epoch: 17 | Loss: 0.030019 | Train accuracy: 0.250000 | Test accuracy: 0.250000\n",
      "Epoch: 18 | Loss: 0.026990 | Train accuracy: 0.250000 | Test accuracy: 0.250000\n",
      "Epoch: 19 | Loss: 0.021547 | Train accuracy: 0.200000 | Test accuracy: 0.250000\n",
      "Epoch: 20 | Loss: 0.017201 | Train accuracy: 0.287500 | Test accuracy: 0.350000\n",
      "Epoch: 21 | Loss: 0.015544 | Train accuracy: 0.300000 | Test accuracy: 0.200000\n",
      "Epoch: 22 | Loss: 0.015763 | Train accuracy: 0.275000 | Test accuracy: 0.250000\n",
      "Epoch: 23 | Loss: 0.016059 | Train accuracy: 0.300000 | Test accuracy: 0.250000\n",
      "Epoch: 24 | Loss: 0.015324 | Train accuracy: 0.325000 | Test accuracy: 0.250000\n",
      "Epoch: 25 | Loss: 0.013787 | Train accuracy: 0.387500 | Test accuracy: 0.300000\n",
      "Epoch: 26 | Loss: 0.012556 | Train accuracy: 0.400000 | Test accuracy: 0.350000\n",
      "Epoch: 27 | Loss: 0.012628 | Train accuracy: 0.500000 | Test accuracy: 0.450000\n",
      "Epoch: 28 | Loss: 0.014028 | Train accuracy: 0.537500 | Test accuracy: 0.450000\n",
      "Epoch: 29 | Loss: 0.015718 | Train accuracy: 0.537500 | Test accuracy: 0.400000\n",
      "Epoch: 30 | Loss: 0.016451 | Train accuracy: 0.525000 | Test accuracy: 0.400000\n",
      "Epoch: 31 | Loss: 0.015793 | Train accuracy: 0.537500 | Test accuracy: 0.400000\n",
      "Epoch: 32 | Loss: 0.014347 | Train accuracy: 0.537500 | Test accuracy: 0.450000\n",
      "Epoch: 33 | Loss: 0.013072 | Train accuracy: 0.562500 | Test accuracy: 0.450000\n",
      "Epoch: 34 | Loss: 0.012476 | Train accuracy: 0.475000 | Test accuracy: 0.450000\n",
      "Epoch: 35 | Loss: 0.012359 | Train accuracy: 0.437500 | Test accuracy: 0.400000\n",
      "Epoch: 36 | Loss: 0.012192 | Train accuracy: 0.412500 | Test accuracy: 0.350000\n",
      "Epoch: 37 | Loss: 0.011659 | Train accuracy: 0.412500 | Test accuracy: 0.350000\n",
      "Epoch: 38 | Loss: 0.010916 | Train accuracy: 0.412500 | Test accuracy: 0.350000\n",
      "Epoch: 39 | Loss: 0.010404 | Train accuracy: 0.425000 | Test accuracy: 0.300000\n",
      "Epoch: 40 | Loss: 0.010434 | Train accuracy: 0.425000 | Test accuracy: 0.350000\n",
      "Epoch: 41 | Loss: 0.010867 | Train accuracy: 0.450000 | Test accuracy: 0.350000\n",
      "Epoch: 42 | Loss: 0.011222 | Train accuracy: 0.450000 | Test accuracy: 0.400000\n",
      "Epoch: 43 | Loss: 0.011109 | Train accuracy: 0.437500 | Test accuracy: 0.400000\n",
      "Epoch: 44 | Loss: 0.010556 | Train accuracy: 0.437500 | Test accuracy: 0.350000\n",
      "Epoch: 45 | Loss: 0.009912 | Train accuracy: 0.450000 | Test accuracy: 0.350000\n",
      "Epoch: 46 | Loss: 0.009480 | Train accuracy: 0.437500 | Test accuracy: 0.300000\n",
      "Epoch: 47 | Loss: 0.009290 | Train accuracy: 0.437500 | Test accuracy: 0.350000\n",
      "Epoch: 48 | Loss: 0.009173 | Train accuracy: 0.437500 | Test accuracy: 0.350000\n",
      "Epoch: 49 | Loss: 0.008982 | Train accuracy: 0.437500 | Test accuracy: 0.400000\n",
      "Epoch: 50 | Loss: 0.008737 | Train accuracy: 0.475000 | Test accuracy: 0.400000\n",
      "Epoch: 51 | Loss: 0.008563 | Train accuracy: 0.475000 | Test accuracy: 0.450000\n",
      "Epoch: 52 | Loss: 0.008534 | Train accuracy: 0.537500 | Test accuracy: 0.550000\n",
      "Epoch: 53 | Loss: 0.008574 | Train accuracy: 0.587500 | Test accuracy: 0.550000\n",
      "Epoch: 54 | Loss: 0.008519 | Train accuracy: 0.587500 | Test accuracy: 0.500000\n",
      "Epoch: 55 | Loss: 0.008270 | Train accuracy: 0.587500 | Test accuracy: 0.550000\n",
      "Epoch: 56 | Loss: 0.007883 | Train accuracy: 0.587500 | Test accuracy: 0.600000\n",
      "Epoch: 57 | Loss: 0.007509 | Train accuracy: 0.525000 | Test accuracy: 0.550000\n",
      "Epoch: 58 | Loss: 0.007258 | Train accuracy: 0.537500 | Test accuracy: 0.450000\n",
      "Epoch: 59 | Loss: 0.007131 | Train accuracy: 0.512500 | Test accuracy: 0.450000\n",
      "Epoch: 60 | Loss: 0.007054 | Train accuracy: 0.487500 | Test accuracy: 0.450000\n",
      "Epoch: 61 | Loss: 0.006960 | Train accuracy: 0.512500 | Test accuracy: 0.450000\n",
      "Epoch: 62 | Loss: 0.006837 | Train accuracy: 0.537500 | Test accuracy: 0.450000\n",
      "Epoch: 63 | Loss: 0.006715 | Train accuracy: 0.537500 | Test accuracy: 0.450000\n",
      "Epoch: 64 | Loss: 0.006616 | Train accuracy: 0.562500 | Test accuracy: 0.500000\n",
      "Epoch: 65 | Loss: 0.006534 | Train accuracy: 0.575000 | Test accuracy: 0.600000\n",
      "Epoch: 66 | Loss: 0.006443 | Train accuracy: 0.600000 | Test accuracy: 0.600000\n",
      "Epoch: 67 | Loss: 0.006335 | Train accuracy: 0.637500 | Test accuracy: 0.650000\n",
      "Epoch: 68 | Loss: 0.006221 | Train accuracy: 0.650000 | Test accuracy: 0.650000\n",
      "Epoch: 69 | Loss: 0.006117 | Train accuracy: 0.662500 | Test accuracy: 0.650000\n",
      "Epoch: 70 | Loss: 0.006030 | Train accuracy: 0.675000 | Test accuracy: 0.650000\n",
      "Epoch: 71 | Loss: 0.005952 | Train accuracy: 0.700000 | Test accuracy: 0.650000\n",
      "Epoch: 72 | Loss: 0.005878 | Train accuracy: 0.700000 | Test accuracy: 0.650000\n",
      "Epoch: 73 | Loss: 0.005822 | Train accuracy: 0.662500 | Test accuracy: 0.700000\n",
      "Epoch: 74 | Loss: 0.005801 | Train accuracy: 0.675000 | Test accuracy: 0.650000\n",
      "Epoch: 75 | Loss: 0.005817 | Train accuracy: 0.687500 | Test accuracy: 0.650000\n",
      "Epoch: 76 | Loss: 0.005847 | Train accuracy: 0.700000 | Test accuracy: 0.700000\n",
      "Epoch: 77 | Loss: 0.005856 | Train accuracy: 0.737500 | Test accuracy: 0.700000\n",
      "Epoch: 78 | Loss: 0.005825 | Train accuracy: 0.750000 | Test accuracy: 0.700000\n",
      "Epoch: 79 | Loss: 0.005762 | Train accuracy: 0.750000 | Test accuracy: 0.750000\n",
      "Epoch: 80 | Loss: 0.005692 | Train accuracy: 0.750000 | Test accuracy: 0.750000\n",
      "Epoch: 81 | Loss: 0.005637 | Train accuracy: 0.737500 | Test accuracy: 0.750000\n",
      "Epoch: 82 | Loss: 0.005601 | Train accuracy: 0.737500 | Test accuracy: 0.750000\n",
      "Epoch: 83 | Loss: 0.005574 | Train accuracy: 0.725000 | Test accuracy: 0.750000\n",
      "Epoch: 84 | Loss: 0.005548 | Train accuracy: 0.737500 | Test accuracy: 0.750000\n",
      "Epoch: 85 | Loss: 0.005524 | Train accuracy: 0.737500 | Test accuracy: 0.750000\n",
      "Epoch: 86 | Loss: 0.005508 | Train accuracy: 0.737500 | Test accuracy: 0.750000\n",
      "Epoch: 87 | Loss: 0.005500 | Train accuracy: 0.737500 | Test accuracy: 0.750000\n",
      "Epoch: 88 | Loss: 0.005490 | Train accuracy: 0.750000 | Test accuracy: 0.750000\n",
      "Epoch: 89 | Loss: 0.005463 | Train accuracy: 0.750000 | Test accuracy: 0.750000\n",
      "Epoch: 90 | Loss: 0.005411 | Train accuracy: 0.750000 | Test accuracy: 0.750000\n",
      "Epoch: 91 | Loss: 0.005340 | Train accuracy: 0.750000 | Test accuracy: 0.750000\n",
      "Epoch: 92 | Loss: 0.005265 | Train accuracy: 0.737500 | Test accuracy: 0.750000\n",
      "Epoch: 93 | Loss: 0.005194 | Train accuracy: 0.737500 | Test accuracy: 0.750000\n",
      "Epoch: 94 | Loss: 0.005131 | Train accuracy: 0.737500 | Test accuracy: 0.750000\n",
      "Epoch: 95 | Loss: 0.005073 | Train accuracy: 0.737500 | Test accuracy: 0.750000\n",
      "Epoch: 96 | Loss: 0.005017 | Train accuracy: 0.737500 | Test accuracy: 0.750000\n",
      "Epoch: 97 | Loss: 0.004963 | Train accuracy: 0.750000 | Test accuracy: 0.750000\n",
      "Epoch: 98 | Loss: 0.004912 | Train accuracy: 0.750000 | Test accuracy: 0.750000\n",
      "Epoch: 99 | Loss: 0.004860 | Train accuracy: 0.750000 | Test accuracy: 0.750000\n",
      "Epoch: 100 | Loss: 0.004803 | Train accuracy: 0.750000 | Test accuracy: 0.750000\n"
     ]
    }
   ],
   "source": [
    "### Evaluating the qNN\n",
    "# Running the model with test data\n",
    "pred_train = model_running(params, train_data, num_qubits, num_layers)\n",
    "score_train = accuracy(pred_train, train_target)\n",
    "\n",
    "# Running the model with the test data\n",
    "pred_test = model_running(params, test_data, num_qubits, num_layers)\n",
    "\n",
    "score_test = accuracy(pred_test, test_target)\n",
    "\n",
    "# Saving predictions with random weights for comparison \n",
    "initial_predictions = pred_test\n",
    "\n",
    "loss = cost_function(params, test_data,num_qubits, num_layers, test_target)\n",
    "\n",
    "loss_list = [loss]\n",
    "accuracy_train_list = [score_train]\n",
    "accuracy_test_list = [score_test]\n",
    "\n",
    "print(\n",
    "    \"Epoch: {:2d} | Cost: {:3f} | Train accuracy: {:3f} | Test Accuracy: {:3f}\".format(\n",
    "        0, loss.item(), score_train, score_test\n",
    "    )\n",
    ")\n",
    "\n",
    "for it in range(epochs):\n",
    "    for Xbatch, ybatch in iterate_minibatches(train_data, train_target, batch_size=batch_size):\n",
    "        params, _, _, _, _ = opt.step(cost_function, params, Xbatch, num_qubits, num_layers, ybatch)\n",
    "\n",
    "    pred_train = model_running(params, train_data, num_qubits, num_layers)\n",
    "    score_train = accuracy(pred_train, train_target)\n",
    "    loss = cost_function(params, train_data,num_qubits, num_layers, train_target)\n",
    "\n",
    "    pred_test = model_running(params, test_data, num_qubits, num_layers)\n",
    "    score_test = accuracy(pred_test, test_target)\n",
    "    res = [it + 1, loss.item(), score_train, score_test]\n",
    "    print(\n",
    "        \"Epoch: {:2d} | Loss: {:3f} | Train accuracy: {:3f} | Test accuracy: {:3f}\".format(\n",
    "            *res\n",
    "        )\n",
    "    )\n",
    "\n",
    "    loss_list.append(loss)\n",
    "    accuracy_train_list.append(score_train)\n",
    "    accuracy_test_list.append(score_test)"
   ]
  },
  {
   "cell_type": "code",
   "execution_count": null,
   "metadata": {},
   "outputs": [],
   "source": [
    "print(\"Epoch: {:2d} | Loss: {:3f} | Train accuracy: {:3f} | Test accuracy: {:3f}\".format(*res))\n",
    "\n",
    "\n",
    "plt.plot(loss_list, '.-',label = 'loss')\n",
    "plt.xlabel('Iteration')\n",
    "plt.ylabel('Loss')\n",
    "plt.legend()\n",
    "plt.grid(True)\n",
    "plt.title(\"Training Processe Loss\")"
   ]
  },
  {
   "cell_type": "code",
   "execution_count": 24,
   "metadata": {},
   "outputs": [
    {
     "data": {
      "image/png": "[encoded data removed]",
      "text/plain": [
       "<Figure size 1000x300 with 1 Axes>"
      ]
     },
     "metadata": {},
     "output_type": "display_data"
    }
   ],
   "source": [
    "pred_test = model_running(params, xdata, num_qubits, num_layers)\n",
    "\n",
    "fig, axis = plt.subplots(1, 1, figsize=(10, 3))\n",
    "axis.plot(xdata, ydata, color = 'r', label = 'Target')\n",
    "axis.scatter(xdata, pred_test, alpha = 0.7, color = 'c', label = 'Approximation')\n",
    "\n",
    "axis.set_xscale('log')\n",
    "axis.set_xlabel('x')\n",
    "axis.set_ylabel('Distribution Value')\n",
    "axis.set_title('u-quark PDF data plot')\n",
    "axis.legend()\n",
    "axis.grid(True)"
   ]
  },
  {
   "cell_type": "code",
   "execution_count": null,
   "metadata": {},
   "outputs": [],
   "source": []
  }
 ],
 "metadata": {
  "kernelspec": {
   "display_name": "Python 3",
   "language": "python",
   "name": "python3"
  },
  "language_info": {
   "codemirror_mode": {
    "name": "ipython",
    "version": 3
   },
   "file_extension": ".py",
   "mimetype": "text/x-python",
   "name": "python",
   "nbconvert_exporter": "python",
   "pygments_lexer": "ipython3",
   "version": "3.11.7"
  }
 },
 "nbformat": 4,
 "nbformat_minor": 2
}
